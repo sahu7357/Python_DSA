{
 "cells": [
  {
   "cell_type": "code",
   "execution_count": 1,
   "id": "1f65b51a-861b-4da5-a2d3-eb54116bda19",
   "metadata": {},
   "outputs": [
    {
     "data": {
      "text/plain": [
       "'\\nLinear Search is defined as a sequential search algorithm that starts at one end and goes through each element of a list \\nuntil the desired element is found, otherwise the search continues till the end of the data set.\\n'"
      ]
     },
     "execution_count": 1,
     "metadata": {},
     "output_type": "execute_result"
    }
   ],
   "source": [
    "\"\"\"\n",
    "Linear Search is defined as a sequential search algorithm that starts at one end and goes through each element of a list \n",
    "until the desired element is found, otherwise the search continues till the end of the data set.\n",
    "\"\"\""
   ]
  },
  {
   "cell_type": "code",
   "execution_count": 3,
   "id": "ba1f6880-3c98-4cb4-9799-6af307414251",
   "metadata": {},
   "outputs": [
    {
     "name": "stdout",
     "output_type": "stream",
     "text": [
      "-1\n"
     ]
    }
   ],
   "source": [
    "def search(arr, target):\n",
    "    for i in range(len(arr)):\n",
    "        if arr[i] == target:\n",
    "            return i\n",
    "\n",
    "    return -1\n",
    "\n",
    "   \n",
    "arr = [2, 12, 15, 11, 7, 19, 45]\n",
    "target= 5\n",
    "print(search(arr,target))\n",
    "\n",
    "#Time complexity = O(n)"
   ]
  },
  {
   "cell_type": "code",
   "execution_count": null,
   "id": "02a82107-4715-4cd9-afa0-b439c1c43b6a",
   "metadata": {},
   "outputs": [],
   "source": []
  }
 ],
 "metadata": {
  "kernelspec": {
   "display_name": "Python 3 (ipykernel)",
   "language": "python",
   "name": "python3"
  },
  "language_info": {
   "codemirror_mode": {
    "name": "ipython",
    "version": 3
   },
   "file_extension": ".py",
   "mimetype": "text/x-python",
   "name": "python",
   "nbconvert_exporter": "python",
   "pygments_lexer": "ipython3",
   "version": "3.12.3"
  }
 },
 "nbformat": 4,
 "nbformat_minor": 5
}
