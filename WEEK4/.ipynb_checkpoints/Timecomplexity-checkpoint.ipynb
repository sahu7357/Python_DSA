{
 "cells": [
  {
   "cell_type": "code",
   "execution_count": 8,
   "id": "473c2625-b690-4d8a-a1f3-3252947bb38a",
   "metadata": {},
   "outputs": [
    {
     "name": "stdout",
     "output_type": "stream",
     "text": [
      "1 1\n",
      "1 5\n",
      "1 3\n",
      "5 1\n",
      "5 5\n",
      "5 3\n",
      "3 1\n",
      "3 5\n",
      "3 3\n"
     ]
    }
   ],
   "source": [
    "#Create a function that prints the pairs from the list and find the time complexity\n",
    "\n",
    "def getParis(arr):\n",
    "    for x in arr: #O(n)\n",
    "        for y in arr: #O(n)\n",
    "            print(x,y) #O(1)\n",
    "\n",
    "getParis([1, 5, 3])\n",
    "# Time complexity = O(n) * O(n) = O(n^2)"
   ]
  },
  {
   "cell_type": "code",
   "execution_count": 13,
   "id": "ab3ff903-02ae-40ed-953d-423a125b9bf7",
   "metadata": {},
   "outputs": [
    {
     "name": "stdout",
     "output_type": "stream",
     "text": [
      "1 5\n",
      "1 3\n",
      "5 3\n"
     ]
    }
   ],
   "source": [
    "#find the time complexity\n",
    "def printUnorderedParis(arr):\n",
    "    for i in range(len(arr)):  #O(n)\n",
    "        for j in range(i+1, len(arr)):\n",
    "            print(arr[i],arr[j])\n",
    "\n",
    "printUnorderedParis([1, 5, 3])\n",
    "\n",
    "\"\"\"\n",
    "Average work\n",
    "Outer loop = n times\n",
    "\n",
    "Inner loop\n",
    "    1st -->  10 times\n",
    "    2nd -->  9\n",
    "       -\n",
    "       1\n",
    "average = 5 = 10/2\n",
    "          n = n/2\n",
    "    \n",
    "\"\"\"\n",
    "#Time complexity = n*n/2 = O(n^2)"
   ]
  },
  {
   "cell_type": "code",
   "execution_count": null,
   "id": "24b55de4-6b16-4ee1-9b39-7c2bb0277301",
   "metadata": {},
   "outputs": [],
   "source": []
  }
 ],
 "metadata": {
  "kernelspec": {
   "display_name": "Python 3 (ipykernel)",
   "language": "python",
   "name": "python3"
  },
  "language_info": {
   "codemirror_mode": {
    "name": "ipython",
    "version": 3
   },
   "file_extension": ".py",
   "mimetype": "text/x-python",
   "name": "python",
   "nbconvert_exporter": "python",
   "pygments_lexer": "ipython3",
   "version": "3.12.3"
  }
 },
 "nbformat": 4,
 "nbformat_minor": 5
}
