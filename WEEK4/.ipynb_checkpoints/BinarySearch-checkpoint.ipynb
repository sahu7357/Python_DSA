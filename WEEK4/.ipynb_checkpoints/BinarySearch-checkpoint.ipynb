{
 "cells": [
  {
   "cell_type": "code",
   "execution_count": null,
   "id": "8754edad-c7cb-416f-b184-f93b9f4e727c",
   "metadata": {},
   "outputs": [],
   "source": [
    "\"\"\"\n",
    "Binary Search Algorithm is a searching algorithm used in a sorted array by repeatedly dividing the search interval in half. \n",
    "\"\"\""
   ]
  },
  {
   "cell_type": "code",
   "execution_count": 11,
   "id": "bd1f85f4-2727-49c1-bd6d-f3691d0a67c0",
   "metadata": {},
   "outputs": [
    {
     "name": "stdout",
     "output_type": "stream",
     "text": [
      "6\n"
     ]
    }
   ],
   "source": [
    "def search(num, target):\n",
    "    start = 0\n",
    "    end = len(num)-1\n",
    "\n",
    "    while start <= end:\n",
    "        mid = start + (end-start)//2\n",
    "\n",
    "        if target < num[mid]:\n",
    "            end = mid - 1\n",
    "\n",
    "        elif target > num[mid]:\n",
    "            start = mid + 1\n",
    "\n",
    "        else :\n",
    "            return mid\n",
    "\n",
    "    return -1\n",
    "\n",
    "nums = [2, 12, 15, 17, 27, 29, 45]\n",
    "target = 45\n",
    "print(search(nums, target))\n",
    "    "
   ]
  },
  {
   "cell_type": "code",
   "execution_count": 5,
   "id": "7e5552d2-f0f6-40cb-9665-61959118cef9",
   "metadata": {},
   "outputs": [
    {
     "name": "stdout",
     "output_type": "stream",
     "text": [
      "start:  4\n",
      "mid:  5\n",
      "5\n"
     ]
    }
   ],
   "source": [
    "def search(nums, target):\n",
    "    start = 0\n",
    "    end = len(nums)-1 \n",
    "\n",
    "    while start <= end:\n",
    "        mid = start + (end-start)//2 \n",
    "\n",
    "\n",
    "        if nums[mid] > target: \n",
    "            end = mid-1\n",
    "            print(\"end: \", end)\n",
    "        elif nums[mid] < target: \n",
    "            start = mid+1    \n",
    "            print(\"start: \", start)\n",
    "        else:\n",
    "            print(\"mid: \", mid)\n",
    "            return mid\n",
    "\n",
    "    return -1\n",
    "\n",
    "\n",
    "if __name__ == '__main__':\n",
    "    nums = [2, 12, 15, 17, 27, 29, 45]\n",
    "    target = 29\n",
    "    print(search(nums, target))"
   ]
  },
  {
   "cell_type": "code",
   "execution_count": null,
   "id": "a2129f92-29cc-4c74-80f3-a9662ccf7caf",
   "metadata": {},
   "outputs": [],
   "source": []
  },
  {
   "cell_type": "code",
   "execution_count": null,
   "id": "303a98a8-454a-45de-8d27-80578031f296",
   "metadata": {},
   "outputs": [],
   "source": []
  },
  {
   "cell_type": "code",
   "execution_count": null,
   "id": "6e792b56-f7fc-43ee-877f-b9b4234911b2",
   "metadata": {},
   "outputs": [],
   "source": []
  },
  {
   "cell_type": "code",
   "execution_count": null,
   "id": "6e38e255-bcfa-487e-aade-de74950c6ba8",
   "metadata": {},
   "outputs": [],
   "source": []
  },
  {
   "cell_type": "code",
   "execution_count": null,
   "id": "b3cf95e3-7add-40f1-97ad-70b2f77e4431",
   "metadata": {},
   "outputs": [],
   "source": []
  },
  {
   "cell_type": "code",
   "execution_count": null,
   "id": "2197eacd-1a93-4be9-87e6-4911a721e85a",
   "metadata": {},
   "outputs": [],
   "source": []
  },
  {
   "cell_type": "code",
   "execution_count": null,
   "id": "e55737f1-eda2-4f32-834a-72d5bea10d51",
   "metadata": {},
   "outputs": [],
   "source": []
  },
  {
   "cell_type": "code",
   "execution_count": null,
   "id": "f77b129a-226d-4ca8-bcc2-80767dc0bfb9",
   "metadata": {},
   "outputs": [],
   "source": []
  }
 ],
 "metadata": {
  "kernelspec": {
   "display_name": "Python 3 (ipykernel)",
   "language": "python",
   "name": "python3"
  },
  "language_info": {
   "codemirror_mode": {
    "name": "ipython",
    "version": 3
   },
   "file_extension": ".py",
   "mimetype": "text/x-python",
   "name": "python",
   "nbconvert_exporter": "python",
   "pygments_lexer": "ipython3",
   "version": "3.12.3"
  }
 },
 "nbformat": 4,
 "nbformat_minor": 5
}
