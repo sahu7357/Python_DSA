{
 "cells": [
  {
   "cell_type": "code",
   "execution_count": 5,
   "id": "856fe82a-8bd2-4694-be81-3e0f1af725a4",
   "metadata": {},
   "outputs": [
    {
     "name": "stdout",
     "output_type": "stream",
     "text": [
      "j inside for:  0\n",
      "j inside while:  -1\n",
      "j at last:  -1\n",
      "[5, 9, 1, 4, 3]\n",
      "\n",
      "\n",
      "j inside for:  1\n",
      "j inside while:  0\n",
      "j inside while:  -1\n",
      "j at last:  -1\n",
      "[1, 5, 9, 4, 3]\n",
      "\n",
      "\n",
      "j inside for:  2\n",
      "j inside while:  1\n",
      "j inside while:  0\n",
      "j at last:  0\n",
      "[1, 4, 5, 9, 3]\n",
      "\n",
      "\n",
      "j inside for:  3\n",
      "j inside while:  2\n",
      "j inside while:  1\n",
      "j inside while:  0\n",
      "j at last:  0\n",
      "[1, 3, 4, 5, 9]\n",
      "\n",
      "\n",
      "Sorted Array in Ascending Order:\n",
      "[1, 3, 4, 5, 9]\n"
     ]
    }
   ],
   "source": [
    "def insertionSort(array):\n",
    "\n",
    "    for step in range(1, len(array)):\n",
    "        key = array[step]\n",
    "        j = step - 1\n",
    "        print(\"j inside for: \",j)\n",
    "\n",
    "        while j >= 0 and key < array[j]:\n",
    "            array[j+1] = array[j]\n",
    "            j= j -1\n",
    "            print(\"j inside while: \",j)\n",
    "\n",
    "        array[j+1] = key\n",
    "        print(\"j at last: \",j)\n",
    "        print(array)\n",
    "        print(\"\\n\")\n",
    "\n",
    "\n",
    "data = [9, 5, 1, 4, 3]\n",
    "insertionSort(data)\n",
    "print('Sorted Array in Ascending Order:')\n",
    "print(data)"
   ]
  },
  {
   "cell_type": "code",
   "execution_count": null,
   "id": "51c75e08-2d01-4dec-a274-4e7327802245",
   "metadata": {},
   "outputs": [],
   "source": []
  }
 ],
 "metadata": {
  "kernelspec": {
   "display_name": "Python 3 (ipykernel)",
   "language": "python",
   "name": "python3"
  },
  "language_info": {
   "codemirror_mode": {
    "name": "ipython",
    "version": 3
   },
   "file_extension": ".py",
   "mimetype": "text/x-python",
   "name": "python",
   "nbconvert_exporter": "python",
   "pygments_lexer": "ipython3",
   "version": "3.12.3"
  }
 },
 "nbformat": 4,
 "nbformat_minor": 5
}
