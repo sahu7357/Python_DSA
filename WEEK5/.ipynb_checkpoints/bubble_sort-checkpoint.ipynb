{
 "cells": [
  {
   "cell_type": "code",
   "execution_count": null,
   "id": "c4603182-0adf-4e4c-9be7-f77f21317e1e",
   "metadata": {},
   "outputs": [],
   "source": [
    "\"\"\"\n",
    "Bubble sort is a sorting algorithm that compares two adjacent elements and swaps them until they are in the intended order.\n",
    "Time complexity of O(n^2)\n",
    "\n",
    "\"\"\""
   ]
  },
  {
   "cell_type": "code",
   "execution_count": 15,
   "id": "5744ffb2-a284-4c47-be17-d9eee278790f",
   "metadata": {},
   "outputs": [
    {
     "name": "stdout",
     "output_type": "stream",
     "text": [
      "Before:  [2, 1, 10, 5, 8]\n",
      "After:  [1, 2, 5, 8, 10]\n",
      "1\n",
      "2\n",
      "5\n",
      "8\n",
      "10\n"
     ]
    }
   ],
   "source": [
    "def bubblesort(arr):\n",
    "    n = len(arr)\n",
    "\n",
    "    for i in range(n):\n",
    "        for j in range(0, n-i-1):\n",
    "            if arr[j] > arr[j+1]:\n",
    "                arr[j], arr[j+1] = arr[j+1], arr[j]\n",
    "\n",
    "list1 = [2, 1, 10, 5, 8]\n",
    "print(\"Before: \", list1)\n",
    "bubblesort(list1)\n",
    "print(\"After: \", list1)\n",
    "for l in list1:\n",
    "    print(l)"
   ]
  },
  {
   "cell_type": "code",
   "execution_count": null,
   "id": "e76b87de-e147-4cc8-8e5b-51b14f38f88a",
   "metadata": {},
   "outputs": [],
   "source": []
  },
  {
   "cell_type": "code",
   "execution_count": 28,
   "id": "29ebdedb-30b9-487f-a5ab-71c8721f0917",
   "metadata": {},
   "outputs": [
    {
     "name": "stdout",
     "output_type": "stream",
     "text": [
      "Before: [10, 4, 9, 100, 22, 64]\n",
      "\n",
      "\n",
      "0\n",
      "1\n",
      "2\n",
      "3\n",
      "4\n",
      "\n",
      "\n",
      "0\n",
      "1\n",
      "2\n",
      "3\n",
      "\n",
      "\n",
      "0\n",
      "1\n",
      "2\n",
      "\n",
      "\n",
      "0\n",
      "1\n",
      "\n",
      "\n",
      "0\n",
      "\n",
      "\n",
      "After: [4, 9, 10, 22, 64, 100]\n"
     ]
    }
   ],
   "source": [
    "def bubble(arr):\n",
    "    n = len(arr)\n",
    "    for i in range(n):\n",
    "        print(\"\\n\")\n",
    "        for j in range( 0, n -i -1):\n",
    "            \n",
    "            print(j)\n",
    "            if arr[j] > arr[j+1]:\n",
    "                arr[j], arr[j+1] = arr[j+1], arr[j]\n",
    "\n",
    "arr1 = [10, 4, 9, 100, 22, 64]\n",
    "print(\"Before:\", arr1)\n",
    "bubble(arr1)\n",
    "print(\"After:\", arr1)"
   ]
  },
  {
   "cell_type": "code",
   "execution_count": 20,
   "id": "176d7bfe-4359-4f07-9bb4-ce0d4ced0b3e",
   "metadata": {},
   "outputs": [],
   "source": [
    "swapped = True\n",
    "if not swapped:\n",
    "    print(swapped)"
   ]
  },
  {
   "cell_type": "code",
   "execution_count": 29,
   "id": "838210a1-e114-4a47-9510-c7474a2cdaea",
   "metadata": {},
   "outputs": [
    {
     "name": "stdout",
     "output_type": "stream",
     "text": [
      "Before: [10, 4, 9, 100, 22, 64]\n",
      "\n",
      "\n",
      "0\n",
      "1\n",
      "2\n",
      "3\n",
      "4\n",
      "\n",
      "\n",
      "0\n",
      "1\n",
      "2\n",
      "3\n",
      "After: [4, 9, 10, 22, 64, 100]\n"
     ]
    }
   ],
   "source": [
    "#Optimised bubble sort\n",
    "\n",
    "def opbs(arr):\n",
    "    n = len(arr)\n",
    "\n",
    "    for i in range(n):\n",
    "        print(\"\\n\")\n",
    "        swapped = False\n",
    "\n",
    "        for j in range(0, n -i -1):\n",
    "            print(j)\n",
    "            if arr[j] > arr[j+1]:\n",
    "                arr[j], arr[j+1] = arr[j+1], arr[j]\n",
    "\n",
    "                swapped = True\n",
    "\n",
    "        if not swapped:\n",
    "            break\n",
    "\n",
    "arr2 = [10, 4, 9, 100, 22, 64]\n",
    "print(\"Before:\", arr2)\n",
    "opbs(arr2)\n",
    "print(\"After:\", arr2)"
   ]
  },
  {
   "cell_type": "code",
   "execution_count": null,
   "id": "f9ff6cb7-4960-4cef-817f-4a298478fd06",
   "metadata": {},
   "outputs": [],
   "source": []
  }
 ],
 "metadata": {
  "kernelspec": {
   "display_name": "Python 3 (ipykernel)",
   "language": "python",
   "name": "python3"
  },
  "language_info": {
   "codemirror_mode": {
    "name": "ipython",
    "version": 3
   },
   "file_extension": ".py",
   "mimetype": "text/x-python",
   "name": "python",
   "nbconvert_exporter": "python",
   "pygments_lexer": "ipython3",
   "version": "3.12.3"
  }
 },
 "nbformat": 4,
 "nbformat_minor": 5
}
