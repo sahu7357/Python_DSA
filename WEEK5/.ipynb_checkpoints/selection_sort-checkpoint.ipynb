{
 "cells": [
  {
   "cell_type": "code",
   "execution_count": null,
   "id": "36fe7152-6c09-4b87-89db-70d8e9a79dd0",
   "metadata": {},
   "outputs": [],
   "source": [
    "\"\"\"\n",
    "Selection sort is a sorting algorithm that selects the smallest element from an unsorted list in each iteration and\n",
    "places that element at the beginning of the unsorted list.\n",
    "Time complexity O(n^2)\n",
    "\"\"\""
   ]
  },
  {
   "cell_type": "code",
   "execution_count": 8,
   "id": "b9a2cf7e-e9b9-442c-b2c0-eec211478e0a",
   "metadata": {},
   "outputs": [
    {
     "name": "stdout",
     "output_type": "stream",
     "text": [
      "After:  [-2, 4, 5, 11, 19, 22]\n"
     ]
    }
   ],
   "source": [
    "def selectionSort(arr, size):\n",
    "    for s in range(size):\n",
    "        min_idx = s\n",
    "\n",
    "        for i in range(s+1, size):\n",
    "            if  arr[i] < arr[min_idx]:\n",
    "                min_idx = i\n",
    "\n",
    "        (arr[min_idx],arr[s]) = (arr[s], arr[min_idx])\n",
    "\n",
    "arr1= [22, 11, 4, 5, 19, -2]\n",
    "size = len(arr1)\n",
    "selectionSort(arr1, size)\n",
    "print(\"After: \", arr1)"
   ]
  },
  {
   "cell_type": "code",
   "execution_count": null,
   "id": "df948327-015a-4f94-991a-7b19dc574843",
   "metadata": {},
   "outputs": [],
   "source": []
  },
  {
   "cell_type": "code",
   "execution_count": null,
   "id": "7e0b81f9-1f7c-4357-80ec-80c58e26fdec",
   "metadata": {},
   "outputs": [],
   "source": []
  }
 ],
 "metadata": {
  "kernelspec": {
   "display_name": "Python 3 (ipykernel)",
   "language": "python",
   "name": "python3"
  },
  "language_info": {
   "codemirror_mode": {
    "name": "ipython",
    "version": 3
   },
   "file_extension": ".py",
   "mimetype": "text/x-python",
   "name": "python",
   "nbconvert_exporter": "python",
   "pygments_lexer": "ipython3",
   "version": "3.12.3"
  }
 },
 "nbformat": 4,
 "nbformat_minor": 5
}
