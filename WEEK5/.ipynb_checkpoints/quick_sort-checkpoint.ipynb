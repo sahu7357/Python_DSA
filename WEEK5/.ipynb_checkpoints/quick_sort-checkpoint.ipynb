{
 "cells": [
  {
   "cell_type": "code",
   "execution_count": null,
   "id": "c1df6e7e-eb5a-4540-8062-295d42d9e424",
   "metadata": {},
   "outputs": [],
   "source": [
    "\"\"\"\n",
    "Quicksort is a sorting algorithm based on the divide and conquer approach where \n",
    "1. An array is divided into subarrays by selecting a pivot element.\n",
    "    While dividing the array, the pivot element should be positioned in such a way that elements less than pivot are kept on the left side\n",
    "    and elements greater than pivot are on the right side of the pivot\n",
    "\n",
    "2. The left and right subarrays are also divided using the same approach. This process continues untill each subarray contains a single \n",
    "    element.\n",
    "    \n",
    "\"\"\""
   ]
  },
  {
   "cell_type": "code",
   "execution_count": 2,
   "id": "e4ce2632-d9c8-489e-80f9-f4902128fde9",
   "metadata": {},
   "outputs": [
    {
     "name": "stdout",
     "output_type": "stream",
     "text": [
      "Unsorted Array\n",
      "[8, 7, 2, 1, 0, 9, 6]\n",
      "Sorted Array in Ascending Order:\n",
      "[0, 1, 2, 6, 7, 8, 9]\n"
     ]
    }
   ],
   "source": [
    "def partition(array, low, high):\n",
    "    pivot = array[high]\n",
    "\n",
    "    i = low - 1\n",
    "\n",
    "    for j in range(low, high):\n",
    "        if array[j] <= pivot:\n",
    "            i = i + 1\n",
    "            array[i], array[j] = array[j], array[i]\n",
    "\n",
    "    array[i+1], array[high] = array[high], array[i+1]\n",
    "\n",
    "    return i + 1\n",
    "\n",
    "def quickSort(array, low, high):\n",
    "    if low < high:\n",
    "        pi = partition(array, low, high)\n",
    "\n",
    "        quickSort(array, low, pi-1)\n",
    "        quickSort(array, pi+1, high)\n",
    "\n",
    "\n",
    "data = [8, 7, 2, 1, 0, 9, 6]\n",
    "print(\"Unsorted Array\")\n",
    "print(data)\n",
    "\n",
    "size = len(data)\n",
    "\n",
    "quickSort(data, 0, size - 1)\n",
    "\n",
    "print('Sorted Array in Ascending Order:')\n",
    "print(data)"
   ]
  },
  {
   "cell_type": "code",
   "execution_count": null,
   "id": "774157f9-dd15-4f8a-82be-3b399f3b8889",
   "metadata": {},
   "outputs": [],
   "source": []
  }
 ],
 "metadata": {
  "kernelspec": {
   "display_name": "Python 3 (ipykernel)",
   "language": "python",
   "name": "python3"
  },
  "language_info": {
   "codemirror_mode": {
    "name": "ipython",
    "version": 3
   },
   "file_extension": ".py",
   "mimetype": "text/x-python",
   "name": "python",
   "nbconvert_exporter": "python",
   "pygments_lexer": "ipython3",
   "version": "3.12.3"
  }
 },
 "nbformat": 4,
 "nbformat_minor": 5
}
