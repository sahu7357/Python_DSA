{
 "cells": [
  {
   "cell_type": "code",
   "execution_count": 4,
   "id": "ee46f947-ba34-4ab3-85f1-b02239a074bd",
   "metadata": {},
   "outputs": [],
   "source": [
    "#Stack using List\n",
    "stk = []\n",
    "stk.append(\"first\")\n",
    "stk.append(\"second\")\n",
    "stk.append(\"third\")"
   ]
  },
  {
   "cell_type": "code",
   "execution_count": 2,
   "id": "40ed55ec-db89-44c7-9704-1b8668730c28",
   "metadata": {},
   "outputs": [
    {
     "name": "stdout",
     "output_type": "stream",
     "text": [
      "['first', 'second', 'third']\n"
     ]
    }
   ],
   "source": [
    "print(stk)"
   ]
  },
  {
   "cell_type": "code",
   "execution_count": 3,
   "id": "6de63719-bdad-4d9a-b027-cb6803b37ad6",
   "metadata": {},
   "outputs": [
    {
     "data": {
      "text/plain": [
       "'third'"
      ]
     },
     "execution_count": 3,
     "metadata": {},
     "output_type": "execute_result"
    }
   ],
   "source": [
    "stk.pop()"
   ]
  },
  {
   "cell_type": "code",
   "execution_count": 5,
   "id": "78e6e102-7917-4976-8ec1-492f44efe97e",
   "metadata": {},
   "outputs": [
    {
     "data": {
      "text/plain": [
       "['first', 'second', 'third']"
      ]
     },
     "execution_count": 5,
     "metadata": {},
     "output_type": "execute_result"
    }
   ],
   "source": [
    "stk"
   ]
  },
  {
   "cell_type": "code",
   "execution_count": 6,
   "id": "c76573d8-704a-428b-ba29-7a3c73ebc68c",
   "metadata": {},
   "outputs": [
    {
     "data": {
      "text/plain": [
       "'third'"
      ]
     },
     "execution_count": 6,
     "metadata": {},
     "output_type": "execute_result"
    }
   ],
   "source": [
    "stk.pop()"
   ]
  },
  {
   "cell_type": "code",
   "execution_count": 7,
   "id": "11c86e46-31bf-4ba5-bc01-b1360f8d9f3b",
   "metadata": {},
   "outputs": [
    {
     "data": {
      "text/plain": [
       "['first', 'second']"
      ]
     },
     "execution_count": 7,
     "metadata": {},
     "output_type": "execute_result"
    }
   ],
   "source": [
    "stk"
   ]
  },
  {
   "cell_type": "code",
   "execution_count": 8,
   "id": "d59d3afb-2a4d-41ad-acba-a044bff9506c",
   "metadata": {},
   "outputs": [
    {
     "data": {
      "text/plain": [
       "'second'"
      ]
     },
     "execution_count": 8,
     "metadata": {},
     "output_type": "execute_result"
    }
   ],
   "source": [
    "stk.pop()"
   ]
  },
  {
   "cell_type": "code",
   "execution_count": 9,
   "id": "d7216992-85eb-4757-afe8-72b242ff4ad8",
   "metadata": {},
   "outputs": [
    {
     "data": {
      "text/plain": [
       "'first'"
      ]
     },
     "execution_count": 9,
     "metadata": {},
     "output_type": "execute_result"
    }
   ],
   "source": [
    "stk.pop()\n"
   ]
  },
  {
   "cell_type": "code",
   "execution_count": 10,
   "id": "3ce5eabb-6eca-4256-80fe-70e587749006",
   "metadata": {},
   "outputs": [
    {
     "data": {
      "text/plain": [
       "[]"
      ]
     },
     "execution_count": 10,
     "metadata": {},
     "output_type": "execute_result"
    }
   ],
   "source": [
    "stk"
   ]
  },
  {
   "cell_type": "code",
   "execution_count": 11,
   "id": "f040073a-1b56-4913-a846-63cc838191ec",
   "metadata": {},
   "outputs": [
    {
     "ename": "IndexError",
     "evalue": "pop from empty list",
     "output_type": "error",
     "traceback": [
      "\u001b[1;31m---------------------------------------------------------------------------\u001b[0m",
      "\u001b[1;31mIndexError\u001b[0m                                Traceback (most recent call last)",
      "Cell \u001b[1;32mIn[11], line 1\u001b[0m\n\u001b[1;32m----> 1\u001b[0m \u001b[43mstk\u001b[49m\u001b[38;5;241;43m.\u001b[39;49m\u001b[43mpop\u001b[49m\u001b[43m(\u001b[49m\u001b[43m)\u001b[49m\n",
      "\u001b[1;31mIndexError\u001b[0m: pop from empty list"
     ]
    }
   ],
   "source": [
    "stk.pop()"
   ]
  },
  {
   "cell_type": "code",
   "execution_count": null,
   "id": "146808da-4d87-4122-85f6-4ab8fc19a899",
   "metadata": {},
   "outputs": [],
   "source": []
  },
  {
   "cell_type": "code",
   "execution_count": 13,
   "id": "fa7f4db5-1dfb-46fc-a0d7-71a67c802451",
   "metadata": {},
   "outputs": [],
   "source": [
    "#using collections\n",
    "from collections import deque \n",
    "stack = deque()"
   ]
  },
  {
   "cell_type": "code",
   "execution_count": 14,
   "id": "6425fde5-5359-4465-8f0e-e8f81f09bd99",
   "metadata": {},
   "outputs": [
    {
     "data": {
      "text/plain": [
       "['__add__',\n",
       " '__class__',\n",
       " '__class_getitem__',\n",
       " '__contains__',\n",
       " '__copy__',\n",
       " '__delattr__',\n",
       " '__delitem__',\n",
       " '__dir__',\n",
       " '__doc__',\n",
       " '__eq__',\n",
       " '__format__',\n",
       " '__ge__',\n",
       " '__getattribute__',\n",
       " '__getitem__',\n",
       " '__getstate__',\n",
       " '__gt__',\n",
       " '__hash__',\n",
       " '__iadd__',\n",
       " '__imul__',\n",
       " '__init__',\n",
       " '__init_subclass__',\n",
       " '__iter__',\n",
       " '__le__',\n",
       " '__len__',\n",
       " '__lt__',\n",
       " '__module__',\n",
       " '__mul__',\n",
       " '__ne__',\n",
       " '__new__',\n",
       " '__reduce__',\n",
       " '__reduce_ex__',\n",
       " '__repr__',\n",
       " '__reversed__',\n",
       " '__rmul__',\n",
       " '__setattr__',\n",
       " '__setitem__',\n",
       " '__sizeof__',\n",
       " '__str__',\n",
       " '__subclasshook__',\n",
       " 'append',\n",
       " 'appendleft',\n",
       " 'clear',\n",
       " 'copy',\n",
       " 'count',\n",
       " 'extend',\n",
       " 'extendleft',\n",
       " 'index',\n",
       " 'insert',\n",
       " 'maxlen',\n",
       " 'pop',\n",
       " 'popleft',\n",
       " 'remove',\n",
       " 'reverse',\n",
       " 'rotate']"
      ]
     },
     "execution_count": 14,
     "metadata": {},
     "output_type": "execute_result"
    }
   ],
   "source": [
    "dir(stack)"
   ]
  },
  {
   "cell_type": "code",
   "execution_count": 15,
   "id": "9107dafc-9584-43a9-bb21-5592e4dd51f5",
   "metadata": {},
   "outputs": [],
   "source": [
    "stack.append(1)"
   ]
  },
  {
   "cell_type": "code",
   "execution_count": 16,
   "id": "bf7b3293-5260-4b12-ad7a-67e5aeedb6f1",
   "metadata": {},
   "outputs": [
    {
     "data": {
      "text/plain": [
       "deque([1])"
      ]
     },
     "execution_count": 16,
     "metadata": {},
     "output_type": "execute_result"
    }
   ],
   "source": [
    "stack"
   ]
  },
  {
   "cell_type": "code",
   "execution_count": 17,
   "id": "1a20cd5c-9d7a-41c5-b62f-74751f78bf8a",
   "metadata": {},
   "outputs": [],
   "source": [
    "stack.append(2)\n",
    "stack.append(3)\n",
    "stack.append(4)"
   ]
  },
  {
   "cell_type": "code",
   "execution_count": 19,
   "id": "c605205c-1897-43c9-85b5-275ec887dda3",
   "metadata": {},
   "outputs": [
    {
     "data": {
      "text/plain": [
       "deque([1, 2, 3, 4])"
      ]
     },
     "execution_count": 19,
     "metadata": {},
     "output_type": "execute_result"
    }
   ],
   "source": [
    "stack"
   ]
  },
  {
   "cell_type": "code",
   "execution_count": 20,
   "id": "97c46d75-e1b8-44cd-be2d-6ae4986000f9",
   "metadata": {},
   "outputs": [
    {
     "data": {
      "text/plain": [
       "4"
      ]
     },
     "execution_count": 20,
     "metadata": {},
     "output_type": "execute_result"
    }
   ],
   "source": [
    "stack.pop()\n"
   ]
  },
  {
   "cell_type": "code",
   "execution_count": 21,
   "id": "b0af5a64-fb20-453d-b0c0-0980d5a1d745",
   "metadata": {},
   "outputs": [
    {
     "data": {
      "text/plain": [
       "deque([1, 2, 3])"
      ]
     },
     "execution_count": 21,
     "metadata": {},
     "output_type": "execute_result"
    }
   ],
   "source": [
    "stack"
   ]
  },
  {
   "cell_type": "code",
   "execution_count": 29,
   "id": "99cf4a06-33b6-42e1-ad2e-9bcf39649b36",
   "metadata": {},
   "outputs": [],
   "source": [
    "from collections import deque\n",
    "\n",
    "class Stack:\n",
    "    def __init__(self):\n",
    "        self.container = deque()\n",
    "\n",
    "    def push(self, val):\n",
    "        self.container.append(val)\n",
    "\n",
    "    def pop(self):\n",
    "        return self.container.pop()\n",
    "\n",
    "    def peek(self):\n",
    "        return self.container[-1]\n",
    "\n",
    "    def is_empty(self):\n",
    "        return len(self.container) == 0\n",
    "\n",
    "    def size(self):\n",
    "        return len(self.container)"
   ]
  },
  {
   "cell_type": "code",
   "execution_count": 31,
   "id": "e7016f16-b9a0-4bdf-8b37-5dd759f86231",
   "metadata": {},
   "outputs": [],
   "source": [
    "s = Stack()\n",
    "s.push(\"Maths\")"
   ]
  },
  {
   "cell_type": "code",
   "execution_count": 32,
   "id": "fae31e9f-461b-4ea4-9e30-8408e2561458",
   "metadata": {},
   "outputs": [],
   "source": [
    "s.push(\"Physics\")\n",
    "s.push(\"Chemistry\")"
   ]
  },
  {
   "cell_type": "code",
   "execution_count": 33,
   "id": "7180241f-06a1-4f5b-935d-5b523b077651",
   "metadata": {},
   "outputs": [
    {
     "data": {
      "text/plain": [
       "'Chemistry'"
      ]
     },
     "execution_count": 33,
     "metadata": {},
     "output_type": "execute_result"
    }
   ],
   "source": [
    "s.peek()"
   ]
  },
  {
   "cell_type": "code",
   "execution_count": 34,
   "id": "7bbad521-05f3-46b9-a923-6bbcb57a9dcd",
   "metadata": {},
   "outputs": [
    {
     "data": {
      "text/plain": [
       "'Chemistry'"
      ]
     },
     "execution_count": 34,
     "metadata": {},
     "output_type": "execute_result"
    }
   ],
   "source": [
    "s.pop()"
   ]
  },
  {
   "cell_type": "code",
   "execution_count": 35,
   "id": "43637565-9143-4336-8af1-499f5ad59f74",
   "metadata": {},
   "outputs": [
    {
     "data": {
      "text/plain": [
       "'Physics'"
      ]
     },
     "execution_count": 35,
     "metadata": {},
     "output_type": "execute_result"
    }
   ],
   "source": [
    "s.pop()\n"
   ]
  },
  {
   "cell_type": "code",
   "execution_count": 36,
   "id": "acf0d80a-6f35-4394-9e8d-6b0857f90d9e",
   "metadata": {},
   "outputs": [
    {
     "data": {
      "text/plain": [
       "'Maths'"
      ]
     },
     "execution_count": 36,
     "metadata": {},
     "output_type": "execute_result"
    }
   ],
   "source": [
    "s.pop()\n"
   ]
  },
  {
   "cell_type": "code",
   "execution_count": 37,
   "id": "d38cb0f1-f912-4df2-bd20-bc6cc14d1fc1",
   "metadata": {},
   "outputs": [
    {
     "ename": "IndexError",
     "evalue": "pop from an empty deque",
     "output_type": "error",
     "traceback": [
      "\u001b[1;31m---------------------------------------------------------------------------\u001b[0m",
      "\u001b[1;31mIndexError\u001b[0m                                Traceback (most recent call last)",
      "Cell \u001b[1;32mIn[37], line 1\u001b[0m\n\u001b[1;32m----> 1\u001b[0m \u001b[43ms\u001b[49m\u001b[38;5;241;43m.\u001b[39;49m\u001b[43mpop\u001b[49m\u001b[43m(\u001b[49m\u001b[43m)\u001b[49m\n",
      "Cell \u001b[1;32mIn[29], line 11\u001b[0m, in \u001b[0;36mStack.pop\u001b[1;34m(self)\u001b[0m\n\u001b[0;32m     10\u001b[0m \u001b[38;5;28;01mdef\u001b[39;00m \u001b[38;5;21mpop\u001b[39m(\u001b[38;5;28mself\u001b[39m):\n\u001b[1;32m---> 11\u001b[0m     \u001b[38;5;28;01mreturn\u001b[39;00m \u001b[38;5;28;43mself\u001b[39;49m\u001b[38;5;241;43m.\u001b[39;49m\u001b[43mcontainer\u001b[49m\u001b[38;5;241;43m.\u001b[39;49m\u001b[43mpop\u001b[49m\u001b[43m(\u001b[49m\u001b[43m)\u001b[49m\n",
      "\u001b[1;31mIndexError\u001b[0m: pop from an empty deque"
     ]
    }
   ],
   "source": [
    "s.pop()"
   ]
  },
  {
   "cell_type": "code",
   "execution_count": 38,
   "id": "397af50d-77c8-41e2-b2f1-bed229bccf6d",
   "metadata": {},
   "outputs": [
    {
     "data": {
      "text/plain": [
       "True"
      ]
     },
     "execution_count": 38,
     "metadata": {},
     "output_type": "execute_result"
    }
   ],
   "source": [
    "s.is_empty()"
   ]
  },
  {
   "cell_type": "code",
   "execution_count": 39,
   "id": "302e7b00-9da0-4eba-b35b-6724bb4e2330",
   "metadata": {},
   "outputs": [
    {
     "data": {
      "text/plain": [
       "0"
      ]
     },
     "execution_count": 39,
     "metadata": {},
     "output_type": "execute_result"
    }
   ],
   "source": [
    "s.size()"
   ]
  },
  {
   "cell_type": "code",
   "execution_count": 40,
   "id": "8bf4f937-42fa-4ff5-948d-aa114faa1389",
   "metadata": {},
   "outputs": [],
   "source": [
    "s.push(1)"
   ]
  },
  {
   "cell_type": "code",
   "execution_count": 41,
   "id": "6c4116ae-69be-486e-8bb3-067892837f58",
   "metadata": {},
   "outputs": [
    {
     "data": {
      "text/plain": [
       "1"
      ]
     },
     "execution_count": 41,
     "metadata": {},
     "output_type": "execute_result"
    }
   ],
   "source": [
    "s.size()"
   ]
  },
  {
   "cell_type": "code",
   "execution_count": 42,
   "id": "8ef15900-ab77-48fc-99f5-b858e78666fc",
   "metadata": {},
   "outputs": [
    {
     "data": {
      "text/plain": [
       "1"
      ]
     },
     "execution_count": 42,
     "metadata": {},
     "output_type": "execute_result"
    }
   ],
   "source": [
    "s.peek()"
   ]
  },
  {
   "cell_type": "code",
   "execution_count": 53,
   "id": "9c128cac-4d04-4a69-9556-a1a489e0abb0",
   "metadata": {},
   "outputs": [
    {
     "name": "stdout",
     "output_type": "stream",
     "text": [
      " cba\n",
      " 91-DIVOC ereuqnoc lliw eW\n"
     ]
    }
   ],
   "source": [
    "\"\"\"\n",
    "Write a function in python that can reverse a string using stack data structure.\n",
    "reverse_string(\"We will conquere COVID-19\") should return \"91-DIVOC ereuqnoc lliw eW\"\n",
    "\"\"\"\n",
    "from collections import deque\n",
    "\n",
    "class Stack:\n",
    "    def __init__(self):\n",
    "        self.container = deque()\n",
    "\n",
    "    def push(self, val):\n",
    "        self.container.append(val)\n",
    "\n",
    "    def pop(self):\n",
    "        return self.container.pop()\n",
    "\n",
    "    def peek(self):\n",
    "        return self.container[-1]\n",
    "\n",
    "    def is_empty(self):\n",
    "        return len(self.container) == 0\n",
    "\n",
    "    def size(self):\n",
    "        return len(self.container)\n",
    "        \n",
    "def reverse_string(str):\n",
    "    s = Stack()\n",
    "    \n",
    "    for ch in str:\n",
    "        s.push(ch)\n",
    "\n",
    "    rs= \" \"\n",
    "    while s.size() != 0:\n",
    "        rs += s.pop()\n",
    "        \n",
    "    return rs\n",
    "\n",
    "print(reverse_string(\"abc\"))\n",
    "print(reverse_string(\"We will conquere COVID-19\"))\n"
   ]
  },
  {
   "cell_type": "code",
   "execution_count": 75,
   "id": "15e676dd-5ed9-40d2-9878-5c4002e316f4",
   "metadata": {},
   "outputs": [
    {
     "data": {
      "text/plain": [
       "True"
      ]
     },
     "execution_count": 75,
     "metadata": {},
     "output_type": "execute_result"
    }
   ],
   "source": [
    "\"\"\"\n",
    "Write a function in python that checks if paranthesis in the string are balanced or not. Possible parantheses are \"{}',\"()\" or \"[]\".\n",
    "is_balanced(\"({a+b})\")     --> True\n",
    "is_balanced(\"))((a+b}{\")   --> False\n",
    "is_balanced(\"((a+b))\")     --> True\n",
    "is_balanced(\"))\")          --> False\n",
    "is_balanced(\"[a+b]*(x+2y)*{gg+kk}\") --> True\n",
    "\"\"\"\n",
    "from collections import deque\n",
    "\n",
    "class Stack:\n",
    "    def __init__(self):\n",
    "        self.container = deque()\n",
    "\n",
    "    def push(self, val):\n",
    "        self.container.append(val)\n",
    "\n",
    "    def pop(self):\n",
    "        return self.container.pop()\n",
    "\n",
    "    def size(self):\n",
    "        return len(self.container)\n",
    "\n",
    "def is_match(ch1, ch2):\n",
    "    match_dict = {\n",
    "        ')': '(',\n",
    "        ']': '[',\n",
    "        '}': '{'\n",
    "    }\n",
    "    return match_dict[ch1] == ch2\n",
    "\n",
    "\n",
    "def is_balanced(s):\n",
    "    stack = Stack()\n",
    "    for ch in s:\n",
    "        if ch=='(' or ch=='{' or ch == '[':\n",
    "            stack.push(ch)\n",
    "        if ch==')' or ch=='}' or ch == ']':\n",
    "            if stack.size()==0:\n",
    "                return False\n",
    "            if not is_match(ch,stack.pop()):\n",
    "                return False\n",
    "\n",
    "    return stack.size()==0\n",
    "\n",
    "is_balanced(\"({a+b})\") \n"
   ]
  },
  {
   "cell_type": "code",
   "execution_count": 76,
   "id": "790a7d6d-7b73-4f8f-a205-45d3da5666fa",
   "metadata": {},
   "outputs": [
    {
     "data": {
      "text/plain": [
       "False"
      ]
     },
     "execution_count": 76,
     "metadata": {},
     "output_type": "execute_result"
    }
   ],
   "source": [
    "is_balanced(\"))((a+b}{\")"
   ]
  },
  {
   "cell_type": "code",
   "execution_count": 68,
   "id": "82f7e1c0-cce4-428d-8542-a487a193504b",
   "metadata": {},
   "outputs": [],
   "source": [
    "s.push(\"a\")"
   ]
  },
  {
   "cell_type": "code",
   "execution_count": 69,
   "id": "0e260a04-34a0-4020-9e1a-b80da4d5f12a",
   "metadata": {},
   "outputs": [],
   "source": [
    "s.push(\"b\")"
   ]
  },
  {
   "cell_type": "code",
   "execution_count": 70,
   "id": "30b5ee61-88e4-43c4-8ee7-c5689751e1b0",
   "metadata": {},
   "outputs": [
    {
     "data": {
      "text/plain": [
       "'b'"
      ]
     },
     "execution_count": 70,
     "metadata": {},
     "output_type": "execute_result"
    }
   ],
   "source": [
    "s.pop()"
   ]
  },
  {
   "cell_type": "code",
   "execution_count": 71,
   "id": "af1e2f74-7b4f-40d0-bb3f-1fbc94dbf50f",
   "metadata": {},
   "outputs": [],
   "source": [
    "s.push(\"c\")\n",
    "s.push(\"d\")"
   ]
  },
  {
   "cell_type": "code",
   "execution_count": 72,
   "id": "24ea85bd-9bb5-429c-99b8-ab386ebb83a8",
   "metadata": {},
   "outputs": [
    {
     "data": {
      "text/plain": [
       "'d'"
      ]
     },
     "execution_count": 72,
     "metadata": {},
     "output_type": "execute_result"
    }
   ],
   "source": [
    "s.pop()"
   ]
  },
  {
   "cell_type": "code",
   "execution_count": 73,
   "id": "31012260-2991-4847-8ba0-1cd3cca94eac",
   "metadata": {},
   "outputs": [
    {
     "data": {
      "text/plain": [
       "2"
      ]
     },
     "execution_count": 73,
     "metadata": {},
     "output_type": "execute_result"
    }
   ],
   "source": [
    "s.size()"
   ]
  },
  {
   "cell_type": "code",
   "execution_count": 35,
   "id": "bd7a4ab1-1086-46a0-8992-bac3546fe9a3",
   "metadata": {},
   "outputs": [],
   "source": [
    "class Stk:\n",
    "    def __init__(self):\n",
    "        self.container = []\n",
    "\n",
    "    def push(self, val):\n",
    "        self.container.append(val)\n",
    "\n",
    "    def pop(self):\n",
    "        return self.container.pop()\n",
    "\n",
    "    def peek(self):\n",
    "        return self.container[-1]\n",
    "\n",
    "    def is_empty(self):\n",
    "        return len(self.container) == 0\n",
    "\n",
    "    def size(self):\n",
    "        return len(self.container)"
   ]
  },
  {
   "cell_type": "code",
   "execution_count": 24,
   "id": "d78f409d-c6cd-4f72-ae85-22540e5b4f7c",
   "metadata": {},
   "outputs": [],
   "source": [
    "s = Stk()"
   ]
  },
  {
   "cell_type": "code",
   "execution_count": 27,
   "id": "d97e001e-fd64-4c8e-90a0-2e460886fa70",
   "metadata": {},
   "outputs": [],
   "source": [
    "s.push(\"hi\")\n"
   ]
  },
  {
   "cell_type": "code",
   "execution_count": 28,
   "id": "48cfab0b-7817-4cbc-86e0-3386adbd70ab",
   "metadata": {},
   "outputs": [],
   "source": [
    "s.push(\"hey\")\n"
   ]
  },
  {
   "cell_type": "code",
   "execution_count": 29,
   "id": "7011eb86-7043-49af-b95b-ed67d13fcb64",
   "metadata": {},
   "outputs": [],
   "source": [
    "s.push(\"hello\")"
   ]
  },
  {
   "cell_type": "code",
   "execution_count": 30,
   "id": "e0bec28c-f926-4185-a2fd-6722bd7eb658",
   "metadata": {},
   "outputs": [
    {
     "data": {
      "text/plain": [
       "'hello'"
      ]
     },
     "execution_count": 30,
     "metadata": {},
     "output_type": "execute_result"
    }
   ],
   "source": [
    "s.pop()\n"
   ]
  },
  {
   "cell_type": "code",
   "execution_count": 31,
   "id": "d7886652-16c2-475e-86ad-849ad828dbb7",
   "metadata": {},
   "outputs": [
    {
     "data": {
      "text/plain": [
       "'hey'"
      ]
     },
     "execution_count": 31,
     "metadata": {},
     "output_type": "execute_result"
    }
   ],
   "source": [
    "s.pop()"
   ]
  },
  {
   "cell_type": "code",
   "execution_count": 32,
   "id": "80ba6863-482e-4cb3-a832-9132903aeb41",
   "metadata": {},
   "outputs": [
    {
     "data": {
      "text/plain": [
       "'hi'"
      ]
     },
     "execution_count": 32,
     "metadata": {},
     "output_type": "execute_result"
    }
   ],
   "source": [
    "s.pop()"
   ]
  },
  {
   "cell_type": "code",
   "execution_count": 33,
   "id": "385c5796-3ef2-4851-84f1-ec1de7a588ae",
   "metadata": {},
   "outputs": [
    {
     "ename": "IndexError",
     "evalue": "pop from empty list",
     "output_type": "error",
     "traceback": [
      "\u001b[1;31m---------------------------------------------------------------------------\u001b[0m",
      "\u001b[1;31mIndexError\u001b[0m                                Traceback (most recent call last)",
      "Cell \u001b[1;32mIn[33], line 1\u001b[0m\n\u001b[1;32m----> 1\u001b[0m \u001b[43ms\u001b[49m\u001b[38;5;241;43m.\u001b[39;49m\u001b[43mpop\u001b[49m\u001b[43m(\u001b[49m\u001b[43m)\u001b[49m\n",
      "Cell \u001b[1;32mIn[23], line 9\u001b[0m, in \u001b[0;36mStk.pop\u001b[1;34m(self)\u001b[0m\n\u001b[0;32m      8\u001b[0m \u001b[38;5;28;01mdef\u001b[39;00m \u001b[38;5;21mpop\u001b[39m(\u001b[38;5;28mself\u001b[39m):\n\u001b[1;32m----> 9\u001b[0m     \u001b[38;5;28;01mreturn\u001b[39;00m \u001b[38;5;28;43mself\u001b[39;49m\u001b[38;5;241;43m.\u001b[39;49m\u001b[43mcontainer\u001b[49m\u001b[38;5;241;43m.\u001b[39;49m\u001b[43mpop\u001b[49m\u001b[43m(\u001b[49m\u001b[43m)\u001b[49m\n",
      "\u001b[1;31mIndexError\u001b[0m: pop from empty list"
     ]
    }
   ],
   "source": [
    "s.pop()"
   ]
  },
  {
   "cell_type": "code",
   "execution_count": 34,
   "id": "c9ca648e-c7ef-42e9-ac66-91a11e0ca5f2",
   "metadata": {},
   "outputs": [
    {
     "name": "stdout",
     "output_type": "stream",
     "text": [
      "<__main__.Stk object at 0x000001CCEBDCE9C0>\n"
     ]
    }
   ],
   "source": [
    "print(s)"
   ]
  },
  {
   "cell_type": "code",
   "execution_count": 36,
   "id": "4ce68fce-7f59-4832-a0e4-c2e46db505a5",
   "metadata": {},
   "outputs": [],
   "source": [
    "x = Stk()"
   ]
  },
  {
   "cell_type": "code",
   "execution_count": 37,
   "id": "b419e075-bf77-4751-9c57-1cce32d9e522",
   "metadata": {},
   "outputs": [],
   "source": [
    "x.push(\"one\")"
   ]
  },
  {
   "cell_type": "code",
   "execution_count": 38,
   "id": "8f5ca327-3993-43f5-9242-b143ff560f45",
   "metadata": {},
   "outputs": [],
   "source": [
    "x.push(\"two\")"
   ]
  },
  {
   "cell_type": "code",
   "execution_count": 39,
   "id": "e5a6b022-5058-49bc-aaf2-363145569535",
   "metadata": {},
   "outputs": [],
   "source": [
    "x.push(\"three\")"
   ]
  },
  {
   "cell_type": "code",
   "execution_count": 40,
   "id": "431d3932-3abc-4e1e-b626-59b9d78b47b4",
   "metadata": {},
   "outputs": [
    {
     "data": {
      "text/plain": [
       "'three'"
      ]
     },
     "execution_count": 40,
     "metadata": {},
     "output_type": "execute_result"
    }
   ],
   "source": [
    "x.peek()"
   ]
  },
  {
   "cell_type": "code",
   "execution_count": 41,
   "id": "45a271e1-4b15-47fe-a2f0-894696ede00c",
   "metadata": {},
   "outputs": [
    {
     "data": {
      "text/plain": [
       "3"
      ]
     },
     "execution_count": 41,
     "metadata": {},
     "output_type": "execute_result"
    }
   ],
   "source": [
    "x.size()"
   ]
  },
  {
   "cell_type": "code",
   "execution_count": 42,
   "id": "d8f77873-4b21-4631-bc3d-88dea074c1bc",
   "metadata": {},
   "outputs": [
    {
     "data": {
      "text/plain": [
       "False"
      ]
     },
     "execution_count": 42,
     "metadata": {},
     "output_type": "execute_result"
    }
   ],
   "source": [
    "x.is_empty()"
   ]
  },
  {
   "cell_type": "code",
   "execution_count": 43,
   "id": "411167a5-65d0-4fb3-bddc-543205316609",
   "metadata": {},
   "outputs": [
    {
     "data": {
      "text/plain": [
       "'three'"
      ]
     },
     "execution_count": 43,
     "metadata": {},
     "output_type": "execute_result"
    }
   ],
   "source": [
    "x.pop()"
   ]
  },
  {
   "cell_type": "code",
   "execution_count": 44,
   "id": "a9747d98-4afc-481b-8452-068465c15b1a",
   "metadata": {},
   "outputs": [
    {
     "data": {
      "text/plain": [
       "'two'"
      ]
     },
     "execution_count": 44,
     "metadata": {},
     "output_type": "execute_result"
    }
   ],
   "source": [
    "x.pop()"
   ]
  },
  {
   "cell_type": "code",
   "execution_count": 45,
   "id": "500a108c-d6a7-46df-ae62-c68d3cf781a8",
   "metadata": {},
   "outputs": [
    {
     "data": {
      "text/plain": [
       "'one'"
      ]
     },
     "execution_count": 45,
     "metadata": {},
     "output_type": "execute_result"
    }
   ],
   "source": [
    "x.pop()"
   ]
  },
  {
   "cell_type": "code",
   "execution_count": 46,
   "id": "b3099e90-3acb-418d-b254-26bc167b21b5",
   "metadata": {},
   "outputs": [
    {
     "data": {
      "text/plain": [
       "0"
      ]
     },
     "execution_count": 46,
     "metadata": {},
     "output_type": "execute_result"
    }
   ],
   "source": [
    "x.size()"
   ]
  },
  {
   "cell_type": "code",
   "execution_count": 47,
   "id": "9ca044f7-0fb1-47e8-915c-abcf33324472",
   "metadata": {},
   "outputs": [
    {
     "data": {
      "text/plain": [
       "True"
      ]
     },
     "execution_count": 47,
     "metadata": {},
     "output_type": "execute_result"
    }
   ],
   "source": [
    "x.is_empty()"
   ]
  },
  {
   "cell_type": "code",
   "execution_count": 48,
   "id": "97c044b4-37c0-41be-a497-7d71d74bda30",
   "metadata": {},
   "outputs": [],
   "source": [
    "y = Stk()"
   ]
  },
  {
   "cell_type": "code",
   "execution_count": 49,
   "id": "014e116e-8abd-4a0a-9889-0791cda8dbc4",
   "metadata": {},
   "outputs": [],
   "source": [
    "y.push(\"this\")\n",
    "y.push(\"that\")"
   ]
  },
  {
   "cell_type": "code",
   "execution_count": 54,
   "id": "cc62d316-ef54-47b1-b408-555f316eba7f",
   "metadata": {},
   "outputs": [
    {
     "data": {
      "text/plain": [
       "2"
      ]
     },
     "execution_count": 54,
     "metadata": {},
     "output_type": "execute_result"
    }
   ],
   "source": [
    "y.size()"
   ]
  },
  {
   "cell_type": "code",
   "execution_count": 58,
   "id": "1f116400-85f4-4d12-a235-2388d7be5733",
   "metadata": {},
   "outputs": [
    {
     "data": {
      "text/plain": [
       "2"
      ]
     },
     "execution_count": 58,
     "metadata": {},
     "output_type": "execute_result"
    }
   ],
   "source": [
    "y.size()"
   ]
  },
  {
   "cell_type": "code",
   "execution_count": 60,
   "id": "3be6bd15-0c16-4b4c-a3b4-4cf17cd7c91d",
   "metadata": {},
   "outputs": [
    {
     "ename": "AttributeError",
     "evalue": "'Stk' object has no attribute 'items'",
     "output_type": "error",
     "traceback": [
      "\u001b[1;31m---------------------------------------------------------------------------\u001b[0m",
      "\u001b[1;31mAttributeError\u001b[0m                            Traceback (most recent call last)",
      "Cell \u001b[1;32mIn[60], line 1\u001b[0m\n\u001b[1;32m----> 1\u001b[0m \u001b[38;5;28;01mfor\u001b[39;00m item \u001b[38;5;129;01min\u001b[39;00m \u001b[38;5;28mreversed\u001b[39m(\u001b[43my\u001b[49m\u001b[38;5;241;43m.\u001b[39;49m\u001b[43mitems\u001b[49m):\n\u001b[0;32m      2\u001b[0m     \u001b[38;5;28mprint\u001b[39m(item)\n",
      "\u001b[1;31mAttributeError\u001b[0m: 'Stk' object has no attribute 'items'"
     ]
    }
   ],
   "source": [
    "for item in reversed(y.items):\n",
    "    print(item)"
   ]
  },
  {
   "cell_type": "code",
   "execution_count": 63,
   "id": "8a502c56-4dda-4165-8c90-fff08ac5d38a",
   "metadata": {},
   "outputs": [
    {
     "name": "stdout",
     "output_type": "stream",
     "text": [
      "Iterating over the stack:\n",
      "3\n",
      "2\n",
      "1\n"
     ]
    }
   ],
   "source": [
    "stack = Stk()\n",
    "stack.push(1)\n",
    "stack.push(2)\n",
    "stack.push(3)\n",
    "\n",
    "print(\"Iterating over the stack:\")\n",
    "while not stack.is_empty():\n",
    "    print(stack.pop())\n"
   ]
  },
  {
   "cell_type": "code",
   "execution_count": 65,
   "id": "81f3c370-8ba9-44c4-9d72-ab15f04eaa50",
   "metadata": {},
   "outputs": [
    {
     "data": {
      "text/plain": [
       "3"
      ]
     },
     "execution_count": 65,
     "metadata": {},
     "output_type": "execute_result"
    }
   ],
   "source": [
    "stack = Stk()\n",
    "stack.push(1)\n",
    "stack.push(2)\n",
    "stack.push(3)\n",
    "stack.pop()"
   ]
  },
  {
   "cell_type": "code",
   "execution_count": null,
   "id": "308f1b36-f02d-4c73-ab66-c80b67304f15",
   "metadata": {},
   "outputs": [],
   "source": []
  }
 ],
 "metadata": {
  "kernelspec": {
   "display_name": "Python 3 (ipykernel)",
   "language": "python",
   "name": "python3"
  },
  "language_info": {
   "codemirror_mode": {
    "name": "ipython",
    "version": 3
   },
   "file_extension": ".py",
   "mimetype": "text/x-python",
   "name": "python",
   "nbconvert_exporter": "python",
   "pygments_lexer": "ipython3",
   "version": "3.12.3"
  }
 },
 "nbformat": 4,
 "nbformat_minor": 5
}
