{
 "cells": [
  {
   "cell_type": "code",
   "execution_count": 30,
   "id": "15a76076-9195-4f73-8e09-71236cb6dd92",
   "metadata": {},
   "outputs": [
    {
     "name": "stdout",
     "output_type": "stream",
     "text": [
      "Mustang Mustang\n",
      "dict_keys(['brand', 'model', 'year'])\n",
      "dict_values(['Ford', 'Mustang', 1964])\n",
      "dict_items([('brand', 'Ford'), ('model', 'Mustang'), ('year', 1964)])\n",
      "Yes\n",
      "{'brand': 'Ford', 'model': 'Mustang', 'year': 2018}\n",
      "{'brand': 'Ford', 'model': 'Mustang', 'year': 2020}\n",
      "{'brand': 'Ford', 'model': 'Mustang', 'year': 2020, 'color': 'red'}\n",
      "{'brand': 'Ford', 'model': 'Mustang', 'year': 2020, 'color': 'red', 'drive': 'auto'}\n"
     ]
    }
   ],
   "source": [
    "#A dictionary is a collection which is ordered, changeable and do not allow duplicates.\n",
    "# Length : print(len(thisdict))\n",
    "\n",
    "#ACCESS ITEMS\n",
    "thisdict = {\n",
    "  \"brand\": \"Ford\",\n",
    "  \"model\": \"Mustang\",\n",
    "  \"year\": 1964\n",
    "}\n",
    "x = thisdict[\"model\"]\n",
    "y = thisdict.get(\"model\")\n",
    "print(x,y)\n",
    "\n",
    "#Get keys\n",
    "k = thisdict.keys()\n",
    "print(k)\n",
    "\n",
    "\n",
    "#Get Values\n",
    "v = thisdict.values()\n",
    "print(v)\n",
    "\n",
    "#Get Items\n",
    "#The items() method will return each item in a dictionary, as tuples in a list.\n",
    "i = thisdict.items()\n",
    "print(i)\n",
    "\n",
    "#Check if key exist\n",
    "if \"model\" in thisdict:\n",
    "  print(\"Yes\")\n",
    "\n",
    "\n",
    "#CHANGE ITEMS\n",
    "thisdict[\"year\"] = 2018\n",
    "print(thisdict)\n",
    "thisdict.update({\"year\": 2020})\n",
    "print(thisdict)\n",
    "\n",
    "\n",
    "#ADD ITEMS\n",
    "thisdict[\"color\"] = \"red\"\n",
    "print(thisdict)\n",
    "thisdict.update({\"drive\": \"auto\"})\n",
    "print(thisdict)"
   ]
  },
  {
   "cell_type": "code",
   "execution_count": 29,
   "id": "007e1cd8-65e6-4204-ba8b-02848099c021",
   "metadata": {},
   "outputs": [
    {
     "name": "stdout",
     "output_type": "stream",
     "text": [
      "{'brand': 'Ford', 'year': 2020, 'color': 'red', 'drive': 'auto'}\n",
      "{'brand': 'Ford', 'year': 2020, 'color': 'red'}\n",
      "{'year': 2020, 'color': 'red'}\n",
      "{}\n"
     ]
    }
   ],
   "source": [
    "#REMOVE ITEMS\n",
    "thisdict.pop(\"model\")\n",
    "print(thisdict)\n",
    "\n",
    "#The popitem() method removes the last inserted item\n",
    "thisdict.popitem()\n",
    "print(thisdict)\n",
    "\n",
    "del thisdict[\"brand\"]\n",
    "print(thisdict)\n",
    "\n",
    "# completely deletes the dict \"del thisdict\"\n",
    "\n",
    "thisdict.clear()\n",
    "print(thisdict)\n"
   ]
  },
  {
   "cell_type": "code",
   "execution_count": 43,
   "id": "d320c0cf-1e73-43da-a10a-b1e8dfb08f3f",
   "metadata": {},
   "outputs": [
    {
     "name": "stdout",
     "output_type": "stream",
     "text": [
      "keys:\n",
      "brand\n",
      "model\n",
      "year\n",
      "color\n",
      "drive\n",
      "\n",
      "keys using keys method:\n",
      "brand\n",
      "model\n",
      "year\n",
      "color\n",
      "drive\n",
      "\n",
      "values: \n",
      "Ford\n",
      "Mustang\n",
      "2020\n",
      "red\n",
      "auto\n",
      "\n",
      "Values using values method:\n",
      "Ford\n",
      "Mustang\n",
      "2020\n",
      "red\n",
      "auto\n",
      "\n",
      "Items in dict:\n",
      "brand Ford\n",
      "model Mustang\n",
      "year 2020\n",
      "color red\n",
      "drive auto\n"
     ]
    }
   ],
   "source": [
    "#LOOP DICTIONARY\n",
    "\n",
    "#Print all key names in the dictionary\n",
    "print(\"keys:\")\n",
    "for x in thisdict:\n",
    "    print(x)\n",
    "\n",
    "#using keys() method\n",
    "print(\"\\nkeys using keys method:\")\n",
    "for x in thisdict.keys():\n",
    "    print(x)\n",
    "\n",
    "#Print all the values in the dictonary\n",
    "print(\"\\nvalues: \")\n",
    "for x in thisdict:\n",
    "    print(thisdict[x])\n",
    "\n",
    "#using values() method\n",
    "print(\"\\nValues using values method:\")\n",
    "for x in thisdict.values():\n",
    "    print(x)\n",
    "\n",
    "\n",
    "#Loop through both keys and values, by using the items() method:\n",
    "print(\"\\nItems in dict:\")\n",
    "for x, y in thisdict.items():\n",
    "    print(x, y)\n",
    "\n"
   ]
  },
  {
   "cell_type": "code",
   "execution_count": null,
   "id": "f464eca5-e6be-4c75-be80-7e96d469a75a",
   "metadata": {},
   "outputs": [],
   "source": []
  }
 ],
 "metadata": {
  "kernelspec": {
   "display_name": "Python 3 (ipykernel)",
   "language": "python",
   "name": "python3"
  },
  "language_info": {
   "codemirror_mode": {
    "name": "ipython",
    "version": 3
   },
   "file_extension": ".py",
   "mimetype": "text/x-python",
   "name": "python",
   "nbconvert_exporter": "python",
   "pygments_lexer": "ipython3",
   "version": "3.12.3"
  }
 },
 "nbformat": 4,
 "nbformat_minor": 5
}
