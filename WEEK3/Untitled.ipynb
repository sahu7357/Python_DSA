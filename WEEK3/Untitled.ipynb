{
 "cells": [
  {
   "cell_type": "code",
   "execution_count": 2,
   "id": "cb3dbb72-5605-495c-81b8-a8a4fff77816",
   "metadata": {},
   "outputs": [],
   "source": [
    "x = { \"firstName\" : \"Pawan\",\n",
    "     \"lastName\" : \"Sahu\",\n",
    "    \"address\" : \"Shahdol\"\n",
    "}"
   ]
  },
  {
   "cell_type": "code",
   "execution_count": 3,
   "id": "9883c325-5d63-41b0-904b-3729768b0873",
   "metadata": {},
   "outputs": [],
   "source": [
    "firstName = \"Pawan\"\n",
    "lastName = \"Sahu\"\n",
    "address = \"Shahdol\""
   ]
  },
  {
   "cell_type": "code",
   "execution_count": 4,
   "id": "8e0a8f69-f7ee-4b4c-911f-f46d10939a30",
   "metadata": {},
   "outputs": [
    {
     "name": "stdout",
     "output_type": "stream",
     "text": [
      "Pawan Sahu\n"
     ]
    }
   ],
   "source": [
    "print( firstName + \" \" + lastName)"
   ]
  },
  {
   "cell_type": "code",
   "execution_count": 5,
   "id": "e7b1b11f-b938-44ab-8db3-54e28f461c5a",
   "metadata": {},
   "outputs": [
    {
     "name": "stdout",
     "output_type": "stream",
     "text": [
      "10\n"
     ]
    }
   ],
   "source": [
    "mylist = [\"pen\", \"paper\", \"book\", \"pencil\", \"phone\", 123, 234, 345, \"bag\", \"earphone\"]\n",
    "print(len(mylist))"
   ]
  },
  {
   "cell_type": "code",
   "execution_count": 6,
   "id": "aee2662c-7d98-4270-adf4-3c74625aa779",
   "metadata": {},
   "outputs": [
    {
     "name": "stdout",
     "output_type": "stream",
     "text": [
      "book\n"
     ]
    }
   ],
   "source": [
    "print(mylist[2])"
   ]
  },
  {
   "cell_type": "code",
   "execution_count": 10,
   "id": "4b2cff08-5d39-43be-adbd-3340cfd8f41d",
   "metadata": {},
   "outputs": [
    {
     "name": "stdout",
     "output_type": "stream",
     "text": [
      "['bag', 'earphone']\n"
     ]
    }
   ],
   "source": [
    "print(mylist[-2:])"
   ]
  },
  {
   "cell_type": "code",
   "execution_count": 11,
   "id": "42c74223-dd95-45f3-ab51-dfc6476ec189",
   "metadata": {},
   "outputs": [
    {
     "name": "stdout",
     "output_type": "stream",
     "text": [
      "['pen', 'book', 'phone', 234, 'bag']\n"
     ]
    }
   ],
   "source": [
    "print(mylist[::2])"
   ]
  },
  {
   "cell_type": "code",
   "execution_count": 20,
   "id": "65dcf3da-d484-4165-9d58-f5890b146631",
   "metadata": {},
   "outputs": [
    {
     "name": "stdout",
     "output_type": "stream",
     "text": [
      "None\n"
     ]
    }
   ],
   "source": [
    "print(mylist.reverse())\n"
   ]
  },
  {
   "cell_type": "code",
   "execution_count": 21,
   "id": "bd7657bd-e057-4487-9c71-cbdbb5884a4d",
   "metadata": {},
   "outputs": [
    {
     "name": "stdout",
     "output_type": "stream",
     "text": [
      "['earphone', 'bag', 345, 234, 123, 'phone', 'pencil', 'book', 'paper', 'pen']\n"
     ]
    }
   ],
   "source": [
    "print(mylist)"
   ]
  },
  {
   "cell_type": "code",
   "execution_count": 22,
   "id": "92db86c4-642a-4f83-a63a-920e77c6c861",
   "metadata": {},
   "outputs": [
    {
     "name": "stdout",
     "output_type": "stream",
     "text": [
      "['earphone', 'bag', 345, 234, 'new', 'phone', 'pencil', 'book', 'paper', 'pen']\n"
     ]
    }
   ],
   "source": [
    "mylist[4] = \"new\"\n",
    "print(mylist)"
   ]
  },
  {
   "cell_type": "code",
   "execution_count": 23,
   "id": "d14e63fc-e5fa-4a71-8ca4-fe9b1a2d96ea",
   "metadata": {},
   "outputs": [],
   "source": [
    "del mylist[4::]"
   ]
  },
  {
   "cell_type": "code",
   "execution_count": 24,
   "id": "bed98f7a-19e2-48d9-9ed6-4ec144c16ddf",
   "metadata": {},
   "outputs": [
    {
     "name": "stdout",
     "output_type": "stream",
     "text": [
      "['earphone', 'bag', 345, 234]\n"
     ]
    }
   ],
   "source": [
    "print(mylist)"
   ]
  },
  {
   "cell_type": "code",
   "execution_count": 26,
   "id": "ad474a70-beee-41d5-aabe-fcae67748f57",
   "metadata": {},
   "outputs": [],
   "source": [
    "mylist.append(\"elem1\")\n",
    "mylist.append(\"elem2\")"
   ]
  },
  {
   "cell_type": "code",
   "execution_count": 27,
   "id": "33124f87-4044-454f-9d40-cdbe4aff615f",
   "metadata": {},
   "outputs": [
    {
     "name": "stdout",
     "output_type": "stream",
     "text": [
      "['earphone', 'bag', 345, 234, 'elem1', 'elem2']\n"
     ]
    }
   ],
   "source": [
    "print(mylist)"
   ]
  },
  {
   "cell_type": "code",
   "execution_count": 30,
   "id": "0c6bb89c-a2c9-4439-8309-7a4536c42594",
   "metadata": {},
   "outputs": [
    {
     "data": {
      "text/plain": [
       "2"
      ]
     },
     "execution_count": 30,
     "metadata": {},
     "output_type": "execute_result"
    }
   ],
   "source": [
    "mylist.index(345)"
   ]
  },
  {
   "cell_type": "code",
   "execution_count": 31,
   "id": "d3478c9b-14e6-4a87-90eb-c28c064069f4",
   "metadata": {},
   "outputs": [
    {
     "name": "stdout",
     "output_type": "stream",
     "text": [
      "['earphone', 'bag', 345, 234, 'elem1', 'elem2', 'one', 'two']\n"
     ]
    }
   ],
   "source": [
    "mylist2= [\"one\", \"two\"]\n",
    "list3= mylist + mylist2\n",
    "print(list3)"
   ]
  },
  {
   "cell_type": "code",
   "execution_count": 32,
   "id": "2e3b72df-6afa-4152-8331-13959bb53d02",
   "metadata": {},
   "outputs": [
    {
     "ename": "TypeError",
     "evalue": "'<' not supported between instances of 'int' and 'str'",
     "output_type": "error",
     "traceback": [
      "\u001b[1;31m---------------------------------------------------------------------------\u001b[0m",
      "\u001b[1;31mTypeError\u001b[0m                                 Traceback (most recent call last)",
      "Cell \u001b[1;32mIn[32], line 1\u001b[0m\n\u001b[1;32m----> 1\u001b[0m \u001b[43mlist3\u001b[49m\u001b[38;5;241;43m.\u001b[39;49m\u001b[43msort\u001b[49m\u001b[43m(\u001b[49m\u001b[43m)\u001b[49m\n",
      "\u001b[1;31mTypeError\u001b[0m: '<' not supported between instances of 'int' and 'str'"
     ]
    }
   ],
   "source": [
    "list3.sort()"
   ]
  },
  {
   "cell_type": "code",
   "execution_count": 33,
   "id": "f4190215-b745-4692-b115-39e527a95e4f",
   "metadata": {},
   "outputs": [
    {
     "ename": "AttributeError",
     "evalue": "'str' object has no attribute 'keys'",
     "output_type": "error",
     "traceback": [
      "\u001b[1;31m---------------------------------------------------------------------------\u001b[0m",
      "\u001b[1;31mAttributeError\u001b[0m                            Traceback (most recent call last)",
      "Cell \u001b[1;32mIn[33], line 1\u001b[0m\n\u001b[1;32m----> 1\u001b[0m \u001b[43mx\u001b[49m\u001b[38;5;241;43m.\u001b[39;49m\u001b[43mkeys\u001b[49m()\n",
      "\u001b[1;31mAttributeError\u001b[0m: 'str' object has no attribute 'keys'"
     ]
    }
   ],
   "source": [
    "x.keys()"
   ]
  },
  {
   "cell_type": "code",
   "execution_count": 34,
   "id": "ad2bcbe5-4567-419d-8804-1d0aceaa625d",
   "metadata": {},
   "outputs": [
    {
     "name": "stdout",
     "output_type": "stream",
     "text": [
      "elem2\n"
     ]
    }
   ],
   "source": [
    "print(x)"
   ]
  },
  {
   "cell_type": "code",
   "execution_count": 35,
   "id": "0ae8ff32-f151-42f0-b815-98627b8de3da",
   "metadata": {},
   "outputs": [],
   "source": [
    "dict1= {\n",
    "    \"one\" : \"hi\",\n",
    "    \"two\" : \"hey\",\n",
    "    \"three\" : \"hello\"}"
   ]
  },
  {
   "cell_type": "code",
   "execution_count": 36,
   "id": "6aa551a5-e601-402c-a23b-5fc78050f080",
   "metadata": {},
   "outputs": [
    {
     "name": "stdout",
     "output_type": "stream",
     "text": [
      "dict_keys(['one', 'two', 'three'])\n"
     ]
    }
   ],
   "source": [
    "print(dict1.keys())"
   ]
  },
  {
   "cell_type": "code",
   "execution_count": 38,
   "id": "8233ad31-7350-4f98-b312-54862fde6fbc",
   "metadata": {},
   "outputs": [
    {
     "name": "stdout",
     "output_type": "stream",
     "text": [
      "dict_values(['hi', 'hey', 'hello'])\n"
     ]
    }
   ],
   "source": [
    "print(dict1.values())"
   ]
  },
  {
   "cell_type": "code",
   "execution_count": 39,
   "id": "17c8db61-f043-4176-91c7-3e84f42c835f",
   "metadata": {},
   "outputs": [
    {
     "data": {
      "text/plain": [
       "'hello'"
      ]
     },
     "execution_count": 39,
     "metadata": {},
     "output_type": "execute_result"
    }
   ],
   "source": [
    "dict1.get(\"three\")\n",
    "    "
   ]
  },
  {
   "cell_type": "code",
   "execution_count": 41,
   "id": "dbb54c8e-dfed-4151-b47b-ac22a6537b37",
   "metadata": {},
   "outputs": [
    {
     "data": {
      "text/plain": [
       "'no key found'"
      ]
     },
     "execution_count": 41,
     "metadata": {},
     "output_type": "execute_result"
    }
   ],
   "source": [
    "dict1.get(\"four\", \"no key found\")"
   ]
  },
  {
   "cell_type": "code",
   "execution_count": 42,
   "id": "9378720c-4f1e-4fd9-b8d0-160dc8a777a5",
   "metadata": {},
   "outputs": [
    {
     "data": {
      "text/plain": [
       "'hello'"
      ]
     },
     "execution_count": 42,
     "metadata": {},
     "output_type": "execute_result"
    }
   ],
   "source": [
    "dict1[\"three\"]"
   ]
  },
  {
   "cell_type": "code",
   "execution_count": 43,
   "id": "4d9dbc45-3a3c-40df-bee8-3e8cf54519af",
   "metadata": {},
   "outputs": [
    {
     "ename": "KeyError",
     "evalue": "'four'",
     "output_type": "error",
     "traceback": [
      "\u001b[1;31m---------------------------------------------------------------------------\u001b[0m",
      "\u001b[1;31mKeyError\u001b[0m                                  Traceback (most recent call last)",
      "Cell \u001b[1;32mIn[43], line 1\u001b[0m\n\u001b[1;32m----> 1\u001b[0m \u001b[43mdict1\u001b[49m\u001b[43m[\u001b[49m\u001b[38;5;124;43m\"\u001b[39;49m\u001b[38;5;124;43mfour\u001b[39;49m\u001b[38;5;124;43m\"\u001b[39;49m\u001b[43m]\u001b[49m\n",
      "\u001b[1;31mKeyError\u001b[0m: 'four'"
     ]
    }
   ],
   "source": [
    "dict1[\"four\"]"
   ]
  },
  {
   "cell_type": "code",
   "execution_count": 44,
   "id": "b7f10c23-2e75-448b-9625-2911d9988844",
   "metadata": {},
   "outputs": [],
   "source": [
    "dict1[\"five\"] = \"hii\""
   ]
  },
  {
   "cell_type": "code",
   "execution_count": 45,
   "id": "dbbf1ddd-7940-430d-9f35-1a1e5c3ebaca",
   "metadata": {},
   "outputs": [
    {
     "name": "stdout",
     "output_type": "stream",
     "text": [
      "{'one': 'hi', 'two': 'hey', 'three': 'hello', 'five': 'hii'}\n"
     ]
    }
   ],
   "source": [
    "print(dict1)"
   ]
  },
  {
   "cell_type": "code",
   "execution_count": null,
   "id": "89674538-39c1-410d-af8a-a84ac2a8aa84",
   "metadata": {},
   "outputs": [],
   "source": []
  }
 ],
 "metadata": {
  "kernelspec": {
   "display_name": "Python 3 (ipykernel)",
   "language": "python",
   "name": "python3"
  },
  "language_info": {
   "codemirror_mode": {
    "name": "ipython",
    "version": 3
   },
   "file_extension": ".py",
   "mimetype": "text/x-python",
   "name": "python",
   "nbconvert_exporter": "python",
   "pygments_lexer": "ipython3",
   "version": "3.12.3"
  }
 },
 "nbformat": 4,
 "nbformat_minor": 5
}
