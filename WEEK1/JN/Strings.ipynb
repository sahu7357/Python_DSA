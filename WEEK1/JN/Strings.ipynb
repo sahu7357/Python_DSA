{
 "cells": [
  {
   "cell_type": "code",
   "execution_count": 1,
   "id": "bd034bb4-74c0-4935-a7a2-3e62f73405dd",
   "metadata": {},
   "outputs": [
    {
     "name": "stdout",
     "output_type": "stream",
     "text": [
      "y\n"
     ]
    }
   ],
   "source": [
    "x=\"my string\"\n",
    "print(x[1])"
   ]
  },
  {
   "cell_type": "code",
   "execution_count": 3,
   "id": "3a6b610c-5d8e-491e-8420-3ac8b9973c46",
   "metadata": {},
   "outputs": [
    {
     "name": "stdout",
     "output_type": "stream",
     "text": [
      "9\n"
     ]
    }
   ],
   "source": [
    "x=\"my string\"\n",
    "print(len(x))"
   ]
  },
  {
   "cell_type": "code",
   "execution_count": 4,
   "id": "e8aefa84-92e6-4998-bf17-ab9ee958e6f4",
   "metadata": {},
   "outputs": [
    {
     "name": "stdout",
     "output_type": "stream",
     "text": [
      "True\n"
     ]
    }
   ],
   "source": [
    "x=\"To find something in a string\"\n",
    "print(\"something\" in x)"
   ]
  },
  {
   "cell_type": "code",
   "execution_count": 5,
   "id": "392aae0d-8454-469e-bc14-d2e6c300529d",
   "metadata": {},
   "outputs": [
    {
     "name": "stdout",
     "output_type": "stream",
     "text": [
      "False\n"
     ]
    }
   ],
   "source": [
    "x=\"To find something in a string\"\n",
    "print(\"Something\" in x)"
   ]
  },
  {
   "cell_type": "code",
   "execution_count": 11,
   "id": "cab23769-111f-49d1-9729-38b2d50eed2a",
   "metadata": {},
   "outputs": [
    {
     "name": "stdout",
     "output_type": "stream",
     "text": [
      "14. 625. 498,002\n"
     ]
    }
   ],
   "source": [
    "#Replace \",\" with \".\" and vice-versa\n",
    "string = \"14, 625, 498.002\"\n",
    "x= string.replace(\",\",\"*\")\n",
    "y= x.replace(\".\",\",\")\n",
    "z= y.replace(\"*\",\".\")\n",
    "print(z)"
   ]
  },
  {
   "cell_type": "code",
   "execution_count": 15,
   "id": "f7f769a5-a5d5-4023-8c14-b4e9789d4201",
   "metadata": {},
   "outputs": [
    {
     "name": "stdout",
     "output_type": "stream",
     "text": [
      "{46: 44, 44: 46}\n",
      "14. 625. 498,002\n"
     ]
    }
   ],
   "source": [
    "string = \"14, 625, 498.002\"\n",
    "x=\".,\"\n",
    "y=\",.\"\n",
    "table =  string.maketrans(x,y)\n",
    "print(table)\n",
    "print(string.translate(table))"
   ]
  },
  {
   "cell_type": "code",
   "execution_count": 16,
   "id": "070c5e90-be89-4e94-97d8-85b16e035de2",
   "metadata": {},
   "outputs": [
    {
     "name": "stdout",
     "output_type": "stream",
     "text": [
      "['Geeks', 'for', 'Geeks']\n"
     ]
    }
   ],
   "source": [
    "\"\"\"convert string to list\n",
    "Input : \"Geeks for Geeks\"\n",
    "Output : ['Geeks', 'for', 'Geeks']\"\"\"\n",
    "\n",
    "mystring = \"Geeks for Geeks\"\n",
    "output = mystring.split(\" \")\n",
    "print(output)"
   ]
  },
  {
   "cell_type": "code",
   "execution_count": 22,
   "id": "1ec506dc-02c9-4cdf-857b-dd68102ef9bc",
   "metadata": {},
   "outputs": [
    {
     "name": "stdout",
     "output_type": "stream",
     "text": [
      "6\n"
     ]
    }
   ],
   "source": [
    "#count and display vowels in a string\n",
    "myString = \"geeks a for geeks\"\n",
    "vowels = [\"a\", \"e\", \"i\", \"o\", \"u\"]\n",
    "count = 0\n",
    "for v in vowels:\n",
    "    for str in myString:\n",
    "        if str == v:\n",
    "            count= count+1\n",
    "\n",
    "print(count)"
   ]
  },
  {
   "cell_type": "code",
   "execution_count": 30,
   "id": "b747de3e-a393-4b9d-b2ab-47921741f256",
   "metadata": {},
   "outputs": [
    {
     "name": "stdout",
     "output_type": "stream",
     "text": [
      "Valid\n"
     ]
    }
   ],
   "source": [
    "#check validity of a password\n",
    "import re\n",
    "password = \"R@m@_f0rtu9e$\"\n",
    "flag = 0\n",
    "while True:\n",
    "    if (len(password)<=8):\n",
    "        flag = -1\n",
    "        break\n",
    "    elif not re.search(\"[a-z]\", password):\n",
    "        flag = -1\n",
    "        break\n",
    "    elif not re.search(\"[A-Z]\", password):\n",
    "        flag = -1\n",
    "        break\n",
    "    elif not re.search(\"[0-9]\", password):\n",
    "        flag = -1\n",
    "        break\n",
    "    elif not re.search(\"[_@$]\", password):\n",
    "        flag = -1\n",
    "        break\n",
    "   \n",
    "    else:\n",
    "        flag = 0\n",
    "        print(\"Valid\")\n",
    "        break\n",
    "\n",
    "if flag == -1:\n",
    "    print(\"not valid\")"
   ]
  },
  {
   "cell_type": "code",
   "execution_count": null,
   "id": "bf7e912a-ade1-4fa8-8a47-c3ddbf08bf24",
   "metadata": {},
   "outputs": [],
   "source": []
  },
  {
   "cell_type": "code",
   "execution_count": null,
   "id": "cfddc0b9-43b6-4c2d-a3fd-d8408788c3d5",
   "metadata": {},
   "outputs": [],
   "source": []
  },
  {
   "cell_type": "code",
   "execution_count": null,
   "id": "37cab1c7-0653-43d4-95b3-f7af59d91247",
   "metadata": {},
   "outputs": [],
   "source": []
  },
  {
   "cell_type": "code",
   "execution_count": null,
   "id": "2c943a69-693e-47fd-a2ec-03b0968a52e5",
   "metadata": {},
   "outputs": [],
   "source": []
  },
  {
   "cell_type": "code",
   "execution_count": null,
   "id": "3688ab43-acf9-466d-ad8a-3e94263976a9",
   "metadata": {},
   "outputs": [],
   "source": []
  },
  {
   "cell_type": "code",
   "execution_count": null,
   "id": "c23a53c5-d879-4146-a807-4367f78636dd",
   "metadata": {},
   "outputs": [],
   "source": []
  },
  {
   "cell_type": "code",
   "execution_count": null,
   "id": "b909c8b4-7462-4aae-8620-7575a6e11966",
   "metadata": {},
   "outputs": [],
   "source": []
  },
  {
   "cell_type": "code",
   "execution_count": null,
   "id": "72916b03-bf96-4a0d-b50b-2846e85b5b5a",
   "metadata": {},
   "outputs": [],
   "source": []
  },
  {
   "cell_type": "code",
   "execution_count": null,
   "id": "949a85f3-c2c9-4742-bf38-10fe14fba69a",
   "metadata": {},
   "outputs": [],
   "source": []
  },
  {
   "cell_type": "code",
   "execution_count": null,
   "id": "83a01e78-0390-407b-9aee-85e07f8dd9f5",
   "metadata": {},
   "outputs": [],
   "source": []
  },
  {
   "cell_type": "code",
   "execution_count": null,
   "id": "48dc9a17-1f62-4324-b2af-7cd8865f8eaf",
   "metadata": {},
   "outputs": [],
   "source": []
  },
  {
   "cell_type": "code",
   "execution_count": null,
   "id": "8034c04e-b3aa-4305-8943-4a7e22e0995b",
   "metadata": {},
   "outputs": [],
   "source": []
  },
  {
   "cell_type": "code",
   "execution_count": null,
   "id": "5b58a1da-8b39-4b00-9a93-728dffd18371",
   "metadata": {},
   "outputs": [],
   "source": []
  }
 ],
 "metadata": {
  "kernelspec": {
   "display_name": "Python 3 (ipykernel)",
   "language": "python",
   "name": "python3"
  },
  "language_info": {
   "codemirror_mode": {
    "name": "ipython",
    "version": 3
   },
   "file_extension": ".py",
   "mimetype": "text/x-python",
   "name": "python",
   "nbconvert_exporter": "python",
   "pygments_lexer": "ipython3",
   "version": "3.12.3"
  }
 },
 "nbformat": 4,
 "nbformat_minor": 5
}
