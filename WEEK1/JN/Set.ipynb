{
 "cells": [
  {
   "cell_type": "code",
   "execution_count": 1,
   "id": "1f1e5e0f-96ff-4d97-9056-236c6cc5b8af",
   "metadata": {},
   "outputs": [],
   "source": [
    "#Set is a collection which is unordered, unchangeable, and unindexed. No duplicate members."
   ]
  },
  {
   "cell_type": "code",
   "execution_count": 2,
   "id": "5c7b173f-44f9-41d7-aab1-26b902b3b8c8",
   "metadata": {},
   "outputs": [
    {
     "name": "stdout",
     "output_type": "stream",
     "text": [
      "{'apple', 'banana', 'cherry'}\n"
     ]
    }
   ],
   "source": [
    "thisset = {\"apple\", \"banana\", \"cherry\"}\n",
    "print(thisset)"
   ]
  },
  {
   "cell_type": "code",
   "execution_count": 3,
   "id": "9cb5e51d-abb5-45a6-8a33-6b8045ad5056",
   "metadata": {},
   "outputs": [
    {
     "name": "stdout",
     "output_type": "stream",
     "text": [
      "{'apple', 'banana', 'cherry'}\n"
     ]
    }
   ],
   "source": [
    "thisset = {\"apple\", \"banana\", \"cherry\", \"apple\"}\n",
    "print(thisset)"
   ]
  },
  {
   "cell_type": "code",
   "execution_count": 4,
   "id": "26e88547-142c-4cf2-85c1-0ae31720c860",
   "metadata": {},
   "outputs": [
    {
     "name": "stdout",
     "output_type": "stream",
     "text": [
      "{'apple', True, 2, 'banana', 'cherry'}\n"
     ]
    }
   ],
   "source": [
    "thisset = {\"apple\", \"banana\", \"cherry\", True, 1, 2}\n",
    "print(thisset)"
   ]
  },
  {
   "cell_type": "code",
   "execution_count": 5,
   "id": "36143a98-dd09-4ad5-9fc6-5f5581ed75d2",
   "metadata": {},
   "outputs": [
    {
     "name": "stdout",
     "output_type": "stream",
     "text": [
      "apple\n",
      "banana\n",
      "cherry\n"
     ]
    }
   ],
   "source": [
    "thisset = {\"apple\", \"banana\", \"cherry\"}\n",
    "for x in thisset:\n",
    "  print(x)"
   ]
  },
  {
   "cell_type": "code",
   "execution_count": 15,
   "id": "e19d38c3-1d78-435b-b2e2-b31f4a81ae01",
   "metadata": {},
   "outputs": [],
   "source": [
    "#Add set items\n"
   ]
  },
  {
   "cell_type": "code",
   "execution_count": 16,
   "id": "15b28716-7b96-4666-824f-2f236423bb7c",
   "metadata": {},
   "outputs": [
    {
     "name": "stdout",
     "output_type": "stream",
     "text": [
      "{'item2', 'item1', 'item4', 'item3'}\n"
     ]
    }
   ],
   "source": [
    "myset = {\"item1\", \"item2\", \"item3\"}\n",
    "myset.add(\"item4\")\n",
    "print(myset)"
   ]
  },
  {
   "cell_type": "code",
   "execution_count": 17,
   "id": "eccf5adb-b247-473d-878d-f1a4df910cc8",
   "metadata": {},
   "outputs": [
    {
     "name": "stdout",
     "output_type": "stream",
     "text": [
      "{'item2', 'item6', 'item3', 'item1', 'item4', 'item5'}\n",
      "{'item4', 'item5', 'item6'}\n"
     ]
    }
   ],
   "source": [
    "myset1 = {\"item1\", \"item2\", \"item3\"}\n",
    "myset2 = {\"item4\", \"item5\", \"item6\"}\n",
    "myset1.update(myset2)\n",
    "print(myset1)\n",
    "print(myset2)\n"
   ]
  },
  {
   "cell_type": "code",
   "execution_count": 19,
   "id": "13642f0e-df20-4e5e-b22b-09093547fb37",
   "metadata": {},
   "outputs": [
    {
     "name": "stdout",
     "output_type": "stream",
     "text": [
      "{'item2', 'item3'}\n"
     ]
    }
   ],
   "source": [
    "myset1 = {\"item1\", \"item2\", \"item3\"}\n",
    "myset1.remove(\"item1\")\n",
    "print(myset1)"
   ]
  },
  {
   "cell_type": "code",
   "execution_count": 20,
   "id": "e34f791f-bb76-4435-9aad-92487df3f6b7",
   "metadata": {},
   "outputs": [
    {
     "ename": "KeyError",
     "evalue": "'item4'",
     "output_type": "error",
     "traceback": [
      "\u001b[1;31m---------------------------------------------------------------------------\u001b[0m",
      "\u001b[1;31mKeyError\u001b[0m                                  Traceback (most recent call last)",
      "Cell \u001b[1;32mIn[20], line 2\u001b[0m\n\u001b[0;32m      1\u001b[0m myset1 \u001b[38;5;241m=\u001b[39m {\u001b[38;5;124m\"\u001b[39m\u001b[38;5;124mitem1\u001b[39m\u001b[38;5;124m\"\u001b[39m, \u001b[38;5;124m\"\u001b[39m\u001b[38;5;124mitem2\u001b[39m\u001b[38;5;124m\"\u001b[39m, \u001b[38;5;124m\"\u001b[39m\u001b[38;5;124mitem3\u001b[39m\u001b[38;5;124m\"\u001b[39m}\n\u001b[1;32m----> 2\u001b[0m \u001b[43mmyset1\u001b[49m\u001b[38;5;241;43m.\u001b[39;49m\u001b[43mremove\u001b[49m\u001b[43m(\u001b[49m\u001b[38;5;124;43m\"\u001b[39;49m\u001b[38;5;124;43mitem4\u001b[39;49m\u001b[38;5;124;43m\"\u001b[39;49m\u001b[43m)\u001b[49m\n\u001b[0;32m      3\u001b[0m \u001b[38;5;28mprint\u001b[39m(myset1)\n",
      "\u001b[1;31mKeyError\u001b[0m: 'item4'"
     ]
    }
   ],
   "source": [
    "myset1 = {\"item1\", \"item2\", \"item3\"}\n",
    "myset1.remove(\"item4\")\n",
    "print(myset1)"
   ]
  },
  {
   "cell_type": "code",
   "execution_count": 21,
   "id": "1296bfd8-4ac4-4853-ae95-d44789fd6e57",
   "metadata": {},
   "outputs": [
    {
     "name": "stdout",
     "output_type": "stream",
     "text": [
      "{'item2', 'item1', 'item3'}\n"
     ]
    }
   ],
   "source": [
    "myset1 = {\"item1\", \"item2\", \"item3\"}\n",
    "myset1.discard(\"item4\")\n",
    "print(myset1)"
   ]
  },
  {
   "cell_type": "code",
   "execution_count": 22,
   "id": "0dd1f69e-2bb2-454b-844a-4efdf713920b",
   "metadata": {},
   "outputs": [
    {
     "name": "stdout",
     "output_type": "stream",
     "text": [
      "{'a', 1, 2, 3, 'b', 'c'}\n"
     ]
    }
   ],
   "source": [
    "set1 = {\"a\", \"b\", \"c\"}\n",
    "set2 = {1, 2, 3}\n",
    "set3 = set1.union(set2)\n",
    "print(set3)"
   ]
  },
  {
   "cell_type": "code",
   "execution_count": null,
   "id": "2bbb6241-88f9-4ddc-ba4e-fa2ddc09e99e",
   "metadata": {},
   "outputs": [],
   "source": []
  },
  {
   "cell_type": "code",
   "execution_count": null,
   "id": "b4d35886-4e0f-423a-92b9-0eea460e79c5",
   "metadata": {},
   "outputs": [],
   "source": []
  },
  {
   "cell_type": "code",
   "execution_count": null,
   "id": "25ea92ed-fec7-447b-8435-28c52969791e",
   "metadata": {},
   "outputs": [],
   "source": []
  },
  {
   "cell_type": "code",
   "execution_count": null,
   "id": "1a264c65-b827-4370-b461-d10ed6e521af",
   "metadata": {},
   "outputs": [],
   "source": []
  },
  {
   "cell_type": "code",
   "execution_count": null,
   "id": "2d7a901b-1d4c-46e0-8281-6ae0e6aa1a7a",
   "metadata": {},
   "outputs": [],
   "source": []
  },
  {
   "cell_type": "code",
   "execution_count": null,
   "id": "3f6506f5-b541-4a49-96e3-cfedd5e926ed",
   "metadata": {},
   "outputs": [],
   "source": []
  }
 ],
 "metadata": {
  "kernelspec": {
   "display_name": "Python 3 (ipykernel)",
   "language": "python",
   "name": "python3"
  },
  "language_info": {
   "codemirror_mode": {
    "name": "ipython",
    "version": 3
   },
   "file_extension": ".py",
   "mimetype": "text/x-python",
   "name": "python",
   "nbconvert_exporter": "python",
   "pygments_lexer": "ipython3",
   "version": "3.12.3"
  }
 },
 "nbformat": 4,
 "nbformat_minor": 5
}
