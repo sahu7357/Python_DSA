{
 "cells": [
  {
   "cell_type": "code",
   "execution_count": 1,
   "id": "352da285-236c-4580-be3c-ce8dd4c782bd",
   "metadata": {},
   "outputs": [],
   "source": [
    "#Dictionary is a collection which is ordered** and changeable. No duplicate members."
   ]
  },
  {
   "cell_type": "code",
   "execution_count": 3,
   "id": "45e3cfb3-7668-419b-9132-85ace1b73cb0",
   "metadata": {},
   "outputs": [
    {
     "name": "stdout",
     "output_type": "stream",
     "text": [
      "{'brand': 'mahindra', 'model': '3XO', 'year': 2024}\n"
     ]
    }
   ],
   "source": [
    "cardict= {\n",
    "    \"brand\": \"mahindra\",\n",
    "    \"model\": \"3XO\",\n",
    "    \"year\": 2024\n",
    "}\n",
    "print(cardict)\n"
   ]
  },
  {
   "cell_type": "code",
   "execution_count": 6,
   "id": "392b2ec3-b5e4-4d19-975c-a1fc6fa7ae25",
   "metadata": {},
   "outputs": [
    {
     "name": "stdout",
     "output_type": "stream",
     "text": [
      "mahindra\n",
      "3\n"
     ]
    }
   ],
   "source": [
    "cardict= {\n",
    "    \"brand\": \"mahindra\",\n",
    "    \"model\": \"3XO\",\n",
    "    \"year\": 2024\n",
    "}\n",
    "print(cardict[\"brand\"])\n",
    "print(len(cardict))"
   ]
  },
  {
   "cell_type": "code",
   "execution_count": 7,
   "id": "6eb6e96c-bb3d-434e-ac4a-84c14331a71a",
   "metadata": {},
   "outputs": [
    {
     "name": "stdout",
     "output_type": "stream",
     "text": [
      "3XO\n"
     ]
    }
   ],
   "source": [
    "cardict= {\n",
    "    \"brand\": \"mahindra\",\n",
    "    \"model\": \"3XO\",\n",
    "    \"year\": 2024\n",
    "}\n",
    "x= cardict.get(\"model\")\n",
    "print(x)"
   ]
  },
  {
   "cell_type": "code",
   "execution_count": 8,
   "id": "20cae2be-722c-4eb7-b501-015c7a581a6d",
   "metadata": {},
   "outputs": [
    {
     "name": "stdout",
     "output_type": "stream",
     "text": [
      "dict_keys(['brand', 'model', 'year'])\n"
     ]
    }
   ],
   "source": [
    "cardict= {\n",
    "    \"brand\": \"mahindra\",\n",
    "    \"model\": \"3XO\",\n",
    "    \"year\": 2024\n",
    "}\n",
    "keys = cardict.keys()\n",
    "print(keys)"
   ]
  },
  {
   "cell_type": "code",
   "execution_count": 9,
   "id": "ec07d68d-60b4-4159-8368-a436875a8985",
   "metadata": {},
   "outputs": [
    {
     "name": "stdout",
     "output_type": "stream",
     "text": [
      "{'brand': 'mahindra', 'model': '3XO', 'year': 2024}\n",
      "{'brand': 'mahindra', 'model': '3XO', 'year': 2024, 'color': 'white'}\n"
     ]
    }
   ],
   "source": [
    "cardict= {\n",
    "    \"brand\": \"mahindra\",\n",
    "    \"model\": \"3XO\",\n",
    "    \"year\": 2024\n",
    "}\n",
    "print(cardict)\n",
    "cardict[\"color\"]= \"white\"\n",
    "print(cardict)"
   ]
  },
  {
   "cell_type": "code",
   "execution_count": 11,
   "id": "8300d33d-d62c-443b-bf3a-d7d5344d165c",
   "metadata": {},
   "outputs": [
    {
     "name": "stdout",
     "output_type": "stream",
     "text": [
      "dict_values(['mahindra', '3XO', 2024])\n"
     ]
    }
   ],
   "source": [
    "cardict= {\n",
    "    \"brand\": \"mahindra\",\n",
    "    \"model\": \"3XO\",\n",
    "    \"year\": 2024\n",
    "}\n",
    "val = cardict.values()\n",
    "print(val)"
   ]
  },
  {
   "cell_type": "code",
   "execution_count": 12,
   "id": "f78a1724-58f8-40c9-9d71-6147e56fedc3",
   "metadata": {},
   "outputs": [
    {
     "name": "stdout",
     "output_type": "stream",
     "text": [
      "dict_items([('brand', 'mahindra'), ('model', '3XO'), ('year', 2024)])\n"
     ]
    }
   ],
   "source": [
    "cardict= {\n",
    "    \"brand\": \"mahindra\",\n",
    "    \"model\": \"3XO\",\n",
    "    \"year\": 2024\n",
    "}\n",
    "itm = cardict.items()\n",
    "print(itm)"
   ]
  },
  {
   "cell_type": "code",
   "execution_count": 13,
   "id": "ab0fc0ba-529d-441f-8c8f-9224476efe5f",
   "metadata": {},
   "outputs": [
    {
     "name": "stdout",
     "output_type": "stream",
     "text": [
      "{'brand': 'mahindra', 'year': 2024}\n"
     ]
    }
   ],
   "source": [
    "cardict= {\n",
    "    \"brand\": \"mahindra\",\n",
    "    \"model\": \"3XO\",\n",
    "    \"year\": 2024\n",
    "}\n",
    "cardict.pop(\"model\")\n",
    "print(cardict)"
   ]
  },
  {
   "cell_type": "code",
   "execution_count": 14,
   "id": "0dec7807-be37-4026-aa62-ccfb078b8140",
   "metadata": {},
   "outputs": [
    {
     "name": "stdout",
     "output_type": "stream",
     "text": [
      "{'brand': 'mahindra', 'model': '3XO'}\n"
     ]
    }
   ],
   "source": [
    "cardict= {\n",
    "    \"brand\": \"mahindra\",\n",
    "    \"model\": \"3XO\",\n",
    "    \"year\": 2024\n",
    "}\n",
    "cardict.popitem()\n",
    "print(cardict)"
   ]
  },
  {
   "cell_type": "code",
   "execution_count": 15,
   "id": "4c0c38ad-5abd-4fed-9e66-7db5e2a7c120",
   "metadata": {},
   "outputs": [
    {
     "name": "stdout",
     "output_type": "stream",
     "text": [
      "brand\n",
      "model\n",
      "year\n"
     ]
    }
   ],
   "source": [
    "cardict= {\n",
    "    \"brand\": \"mahindra\",\n",
    "    \"model\": \"3XO\",\n",
    "    \"year\": 2024\n",
    "}\n",
    "for x in cardict:\n",
    "    print(x)"
   ]
  },
  {
   "cell_type": "code",
   "execution_count": 17,
   "id": "754a8e07-8695-4c92-8239-3d5a88afeb11",
   "metadata": {},
   "outputs": [
    {
     "name": "stdout",
     "output_type": "stream",
     "text": [
      "mahindra\n",
      "3XO\n",
      "2024\n"
     ]
    }
   ],
   "source": [
    "cardict= {\n",
    "    \"brand\": \"mahindra\",\n",
    "    \"model\": \"3XO\",\n",
    "    \"year\": 2024\n",
    "}\n",
    "for x in cardict:\n",
    "    print(cardict[x])"
   ]
  },
  {
   "cell_type": "code",
   "execution_count": 18,
   "id": "3846cc74-dec9-4da8-b16c-f4e755ca5c70",
   "metadata": {},
   "outputs": [
    {
     "name": "stdout",
     "output_type": "stream",
     "text": [
      "brand mahindra\n",
      "model 3XO\n",
      "year 2024\n"
     ]
    }
   ],
   "source": [
    "cardict= {\n",
    "    \"brand\": \"mahindra\",\n",
    "    \"model\": \"3XO\",\n",
    "    \"year\": 2024\n",
    "}\n",
    "for x,y in cardict.items():\n",
    "    print(x,y)"
   ]
  },
  {
   "cell_type": "code",
   "execution_count": null,
   "id": "bf6fd64f-7400-48e2-8f52-2eba92479566",
   "metadata": {},
   "outputs": [],
   "source": []
  }
 ],
 "metadata": {
  "kernelspec": {
   "display_name": "Python 3 (ipykernel)",
   "language": "python",
   "name": "python3"
  },
  "language_info": {
   "codemirror_mode": {
    "name": "ipython",
    "version": 3
   },
   "file_extension": ".py",
   "mimetype": "text/x-python",
   "name": "python",
   "nbconvert_exporter": "python",
   "pygments_lexer": "ipython3",
   "version": "3.12.3"
  }
 },
 "nbformat": 4,
 "nbformat_minor": 5
}
