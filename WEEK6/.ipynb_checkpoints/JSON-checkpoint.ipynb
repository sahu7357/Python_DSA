{
 "cells": [
  {
   "cell_type": "code",
   "execution_count": null,
   "id": "8b625410-176b-4868-903d-47dd2db645a5",
   "metadata": {},
   "outputs": [],
   "source": [
    "\"\"\"\n",
    "Python\t      JSON Equivalent\n",
    "dict\t         object\n",
    "list, tuple\t     array\n",
    "str            \t string\n",
    "int, float, int\t number\n",
    "True\t         true\n",
    "False\t         false\n",
    "None\t         null\n",
    "\n",
    "JSON to dict : json.loads(person)\n",
    "Read JSON file : json.load(f)\n",
    "\n",
    "Convert dict to JSON : json.dumps(person_dict)\n",
    "Writing JSON to a file : json.dump(person_dict, json_file)\n",
    "\"\"\""
   ]
  },
  {
   "cell_type": "code",
   "execution_count": 1,
   "id": "8d458f4c-4fe8-45dd-a4a8-b670d6083cdd",
   "metadata": {},
   "outputs": [],
   "source": [
    "#Parse JSON"
   ]
  },
  {
   "cell_type": "code",
   "execution_count": 3,
   "id": "9d00c6b3-a222-4446-82cd-aa568dd5bd83",
   "metadata": {},
   "outputs": [
    {
     "name": "stdout",
     "output_type": "stream",
     "text": [
      "{'name': 'Bob', 'languages': ['English', 'French']}\n",
      "['English', 'French']\n"
     ]
    }
   ],
   "source": [
    "#JSON to dict\n",
    "import json\n",
    "\n",
    "person = '{\"name\": \"Bob\", \"languages\": [\"English\", \"French\"]}'\n",
    "person_dict = json.loads(person)\n",
    "\n",
    "print(person_dict)\n",
    "\n",
    "print(person_dict['languages'])"
   ]
  },
  {
   "cell_type": "code",
   "execution_count": 10,
   "id": "af2c2070-9128-40ee-8e65-d3b60b7f26d0",
   "metadata": {},
   "outputs": [
    {
     "name": "stdout",
     "output_type": "stream",
     "text": [
      "{'name': 'Bob', 'languages': ['English', 'French']}\n"
     ]
    }
   ],
   "source": [
    "#Read JSON file\n",
    "import json\n",
    "\n",
    "with open(\"C:/Users/sahu7/Documents/Python_DSA/WEEK6/person.json\", 'r') as f:\n",
    "    data = json.load(f)\n",
    "\n",
    "print(data)"
   ]
  },
  {
   "cell_type": "code",
   "execution_count": null,
   "id": "ede63dcc-6caa-4bfd-9334-d271e810e911",
   "metadata": {},
   "outputs": [],
   "source": []
  },
  {
   "cell_type": "code",
   "execution_count": 11,
   "id": "5cf45aa4-2bd1-49aa-b52d-fcea6d4c7fa0",
   "metadata": {},
   "outputs": [],
   "source": [
    "#Convert to JSON string"
   ]
  },
  {
   "cell_type": "code",
   "execution_count": 12,
   "id": "ed04818b-3b7c-4cde-802f-4770df8c4d25",
   "metadata": {},
   "outputs": [
    {
     "name": "stdout",
     "output_type": "stream",
     "text": [
      "{\"name\": \"Tom\", \"age\": 20, \"children\": null}\n"
     ]
    }
   ],
   "source": [
    "#Convert dict to JSON\n",
    "import json\n",
    "\n",
    "person_dict = {\n",
    "    'name': 'Tom',\n",
    "    'age': 20,\n",
    "    'children': None\n",
    "}\n",
    "\n",
    "person_json = json.dumps(person_dict)\n",
    "print(person_json)"
   ]
  },
  {
   "cell_type": "code",
   "execution_count": null,
   "id": "faff02bc-2a58-48fb-8ff8-43c8c5479648",
   "metadata": {},
   "outputs": [],
   "source": []
  },
  {
   "cell_type": "code",
   "execution_count": 13,
   "id": "67ad6d92-17ae-482c-8ebe-af9ff2edf436",
   "metadata": {},
   "outputs": [],
   "source": [
    "#Writing JSON to a file\n",
    "import json\n",
    "\n",
    "person_dict = {\n",
    "    \"name\" : \"Jos\",\n",
    "    \"languages\": [\"English\", \"French\"],\n",
    "    \"married\": True,\n",
    "    \"age\": 32\n",
    "}\n",
    "\n",
    "with open(\"C:/Users/sahu7/Documents/Python_DSA/WEEK6/person2.json\", \"w\") as json_file:\n",
    "    json.dump(person_dict, json_file)"
   ]
  },
  {
   "cell_type": "code",
   "execution_count": null,
   "id": "25c6519b-7b10-4288-a350-2c4cddd0a052",
   "metadata": {},
   "outputs": [],
   "source": []
  }
 ],
 "metadata": {
  "kernelspec": {
   "display_name": "Python 3 (ipykernel)",
   "language": "python",
   "name": "python3"
  },
  "language_info": {
   "codemirror_mode": {
    "name": "ipython",
    "version": 3
   },
   "file_extension": ".py",
   "mimetype": "text/x-python",
   "name": "python",
   "nbconvert_exporter": "python",
   "pygments_lexer": "ipython3",
   "version": "3.12.3"
  }
 },
 "nbformat": 4,
 "nbformat_minor": 5
}
