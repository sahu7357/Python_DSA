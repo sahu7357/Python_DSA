{
 "cells": [
  {
   "cell_type": "code",
   "execution_count": 5,
   "id": "f2fefc48-efe0-4345-b3ac-a4414e0a8416",
   "metadata": {},
   "outputs": [],
   "source": [
    "#Creating file\n",
    "from openpyxl import workbook\n",
    "\n",
    "workbook = Workbook()\n",
    "sheet = workbook.active\n",
    "\n",
    "sheet[\"A1\"] = \"Name\"\n",
    "sheet[\"B1\"] = \"Age\"\n",
    "sheet.append([\"Alice\", 30])\n",
    "sheet.append([\"Bob\", 25])\n",
    "\n",
    "workbook.save(\"files/excel_file.xlsx\")"
   ]
  },
  {
   "cell_type": "code",
   "execution_count": 12,
   "id": "99dd11c1-b995-4b5c-9658-e87016bcb08b",
   "metadata": {},
   "outputs": [
    {
     "data": {
      "text/plain": [
       "<Worksheet \"Watches\">"
      ]
     },
     "execution_count": 12,
     "metadata": {},
     "output_type": "execute_result"
    }
   ],
   "source": [
    "#Reading file\n",
    "\n",
    "from openpyxl import load_workbook\n",
    "\n",
    "workbook =  load_workbook(\"files/sample.xlsx\")\n",
    "\n",
    "#to see all the sheets you have available to work with\n",
    "workbook.sheetnames\n",
    "\n",
    "#selects the first available sheet \n",
    "sheet = workbook.active\n",
    "sheet"
   ]
  },
  {
   "cell_type": "code",
   "execution_count": 13,
   "id": "fa6f5a05-2984-42f2-b9ad-fa4c5c0d68fe",
   "metadata": {},
   "outputs": [
    {
     "data": {
      "text/plain": [
       "'Watches'"
      ]
     },
     "execution_count": 13,
     "metadata": {},
     "output_type": "execute_result"
    }
   ],
   "source": [
    "sheet.title"
   ]
  },
  {
   "cell_type": "code",
   "execution_count": 14,
   "id": "a8cf5524-d40a-419c-9356-f14d4514c719",
   "metadata": {},
   "outputs": [
    {
     "data": {
      "text/plain": [
       "<Cell 'Watches'.A1>"
      ]
     },
     "execution_count": 14,
     "metadata": {},
     "output_type": "execute_result"
    }
   ],
   "source": [
    "sheet[\"A1\"]"
   ]
  },
  {
   "cell_type": "code",
   "execution_count": 18,
   "id": "9e7ff992-c3b4-4bcf-8376-a1f544f83718",
   "metadata": {},
   "outputs": [
    {
     "data": {
      "text/plain": [
       "'marketplace'"
      ]
     },
     "execution_count": 18,
     "metadata": {},
     "output_type": "execute_result"
    }
   ],
   "source": [
    "sheet[\"A1\"].value"
   ]
  },
  {
   "cell_type": "code",
   "execution_count": 19,
   "id": "e15dbae1-8cad-4fda-91b9-a99c3b0fbab2",
   "metadata": {},
   "outputs": [
    {
     "data": {
      "text/plain": [
       "\"G-Shock Men's Grey Sport Watch\""
      ]
     },
     "execution_count": 19,
     "metadata": {},
     "output_type": "execute_result"
    }
   ],
   "source": [
    "sheet[\"F10\"].value"
   ]
  },
  {
   "cell_type": "code",
   "execution_count": 20,
   "id": "7dd65791-bae6-4e97-8d44-92a632bdab42",
   "metadata": {},
   "outputs": [
    {
     "data": {
      "text/plain": [
       "<Cell 'Watches'.F10>"
      ]
     },
     "execution_count": 20,
     "metadata": {},
     "output_type": "execute_result"
    }
   ],
   "source": [
    "sheet.cell(row=10, column=6)"
   ]
  },
  {
   "cell_type": "code",
   "execution_count": 21,
   "id": "845a36d6-08f1-44a9-9297-138505811e5b",
   "metadata": {},
   "outputs": [
    {
     "data": {
      "text/plain": [
       "\"G-Shock Men's Grey Sport Watch\""
      ]
     },
     "execution_count": 21,
     "metadata": {},
     "output_type": "execute_result"
    }
   ],
   "source": [
    "sheet.cell(row=10, column=6).value"
   ]
  },
  {
   "cell_type": "code",
   "execution_count": null,
   "id": "f8cc7ca7-2503-40cc-9ff3-54f823a4d6a9",
   "metadata": {},
   "outputs": [],
   "source": []
  }
 ],
 "metadata": {
  "kernelspec": {
   "display_name": "Python 3 (ipykernel)",
   "language": "python",
   "name": "python3"
  },
  "language_info": {
   "codemirror_mode": {
    "name": "ipython",
    "version": 3
   },
   "file_extension": ".py",
   "mimetype": "text/x-python",
   "name": "python",
   "nbconvert_exporter": "python",
   "pygments_lexer": "ipython3",
   "version": "3.12.3"
  }
 },
 "nbformat": 4,
 "nbformat_minor": 5
}
