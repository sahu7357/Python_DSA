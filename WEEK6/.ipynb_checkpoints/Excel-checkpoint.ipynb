{
 "cells": [
  {
   "cell_type": "code",
   "execution_count": 5,
   "id": "f2fefc48-efe0-4345-b3ac-a4414e0a8416",
   "metadata": {},
   "outputs": [],
   "source": [
    "#Creating file\n",
    "from openpyxl import workbook\n",
    "\n",
    "workbook = Workbook()\n",
    "sheet = workbook.active\n",
    "\n",
    "sheet[\"A1\"] = \"Name\"\n",
    "sheet[\"B1\"] = \"Age\"\n",
    "sheet.append([\"Alice\", 30])\n",
    "sheet.append([\"Bob\", 25])\n",
    "\n",
    "workbook.save(\"files/excel_file.xlsx\")"
   ]
  },
  {
   "cell_type": "code",
   "execution_count": 12,
   "id": "99dd11c1-b995-4b5c-9658-e87016bcb08b",
   "metadata": {},
   "outputs": [
    {
     "data": {
      "text/plain": [
       "<Worksheet \"Watches\">"
      ]
     },
     "execution_count": 12,
     "metadata": {},
     "output_type": "execute_result"
    }
   ],
   "source": [
    "#Reading file\n",
    "\n",
    "from openpyxl import load_workbook\n",
    "\n",
    "workbook =  load_workbook(\"files/sample.xlsx\")\n",
    "\n",
    "#to see all the sheets you have available to work with\n",
    "workbook.sheetnames\n",
    "\n",
    "#selects the first available sheet \n",
    "sheet = workbook.active\n",
    "sheet"
   ]
  },
  {
   "cell_type": "code",
   "execution_count": 13,
   "id": "fa6f5a05-2984-42f2-b9ad-fa4c5c0d68fe",
   "metadata": {},
   "outputs": [
    {
     "data": {
      "text/plain": [
       "'Watches'"
      ]
     },
     "execution_count": 13,
     "metadata": {},
     "output_type": "execute_result"
    }
   ],
   "source": [
    "sheet.title"
   ]
  },
  {
   "cell_type": "code",
   "execution_count": 14,
   "id": "a8cf5524-d40a-419c-9356-f14d4514c719",
   "metadata": {},
   "outputs": [
    {
     "data": {
      "text/plain": [
       "<Cell 'Watches'.A1>"
      ]
     },
     "execution_count": 14,
     "metadata": {},
     "output_type": "execute_result"
    }
   ],
   "source": [
    "sheet[\"A1\"]"
   ]
  },
  {
   "cell_type": "code",
   "execution_count": 18,
   "id": "9e7ff992-c3b4-4bcf-8376-a1f544f83718",
   "metadata": {},
   "outputs": [
    {
     "data": {
      "text/plain": [
       "'marketplace'"
      ]
     },
     "execution_count": 18,
     "metadata": {},
     "output_type": "execute_result"
    }
   ],
   "source": [
    "sheet[\"A1\"].value"
   ]
  },
  {
   "cell_type": "code",
   "execution_count": 19,
   "id": "e15dbae1-8cad-4fda-91b9-a99c3b0fbab2",
   "metadata": {},
   "outputs": [
    {
     "data": {
      "text/plain": [
       "\"G-Shock Men's Grey Sport Watch\""
      ]
     },
     "execution_count": 19,
     "metadata": {},
     "output_type": "execute_result"
    }
   ],
   "source": [
    "sheet[\"F10\"].value"
   ]
  },
  {
   "cell_type": "code",
   "execution_count": 20,
   "id": "7dd65791-bae6-4e97-8d44-92a632bdab42",
   "metadata": {},
   "outputs": [
    {
     "data": {
      "text/plain": [
       "<Cell 'Watches'.F10>"
      ]
     },
     "execution_count": 20,
     "metadata": {},
     "output_type": "execute_result"
    }
   ],
   "source": [
    "sheet.cell(row=10, column=6)"
   ]
  },
  {
   "cell_type": "code",
   "execution_count": 21,
   "id": "845a36d6-08f1-44a9-9297-138505811e5b",
   "metadata": {},
   "outputs": [
    {
     "data": {
      "text/plain": [
       "\"G-Shock Men's Grey Sport Watch\""
      ]
     },
     "execution_count": 21,
     "metadata": {},
     "output_type": "execute_result"
    }
   ],
   "source": [
    "sheet.cell(row=10, column=6).value"
   ]
  },
  {
   "cell_type": "code",
   "execution_count": 22,
   "id": "f8cc7ca7-2503-40cc-9ff3-54f823a4d6a9",
   "metadata": {},
   "outputs": [
    {
     "data": {
      "text/plain": [
       "((<Cell 'Watches'.A1>, <Cell 'Watches'.B1>, <Cell 'Watches'.C1>),\n",
       " (<Cell 'Watches'.A2>, <Cell 'Watches'.B2>, <Cell 'Watches'.C2>))"
      ]
     },
     "execution_count": 22,
     "metadata": {},
     "output_type": "execute_result"
    }
   ],
   "source": [
    "sheet[\"A1:C2\"]"
   ]
  },
  {
   "cell_type": "code",
   "execution_count": 24,
   "id": "ad5c6fc4-d999-4d5d-855b-f4ff90835029",
   "metadata": {},
   "outputs": [
    {
     "data": {
      "text/plain": [
       "((<Cell 'Watches'.A5>,\n",
       "  <Cell 'Watches'.B5>,\n",
       "  <Cell 'Watches'.C5>,\n",
       "  <Cell 'Watches'.D5>,\n",
       "  <Cell 'Watches'.E5>,\n",
       "  <Cell 'Watches'.F5>,\n",
       "  <Cell 'Watches'.G5>,\n",
       "  <Cell 'Watches'.H5>,\n",
       "  <Cell 'Watches'.I5>,\n",
       "  <Cell 'Watches'.J5>,\n",
       "  <Cell 'Watches'.K5>,\n",
       "  <Cell 'Watches'.L5>,\n",
       "  <Cell 'Watches'.M5>,\n",
       "  <Cell 'Watches'.N5>,\n",
       "  <Cell 'Watches'.O5>),\n",
       " (<Cell 'Watches'.A6>,\n",
       "  <Cell 'Watches'.B6>,\n",
       "  <Cell 'Watches'.C6>,\n",
       "  <Cell 'Watches'.D6>,\n",
       "  <Cell 'Watches'.E6>,\n",
       "  <Cell 'Watches'.F6>,\n",
       "  <Cell 'Watches'.G6>,\n",
       "  <Cell 'Watches'.H6>,\n",
       "  <Cell 'Watches'.I6>,\n",
       "  <Cell 'Watches'.J6>,\n",
       "  <Cell 'Watches'.K6>,\n",
       "  <Cell 'Watches'.L6>,\n",
       "  <Cell 'Watches'.M6>,\n",
       "  <Cell 'Watches'.N6>,\n",
       "  <Cell 'Watches'.O6>))"
      ]
     },
     "execution_count": 24,
     "metadata": {},
     "output_type": "execute_result"
    }
   ],
   "source": [
    "sheet[5:6]"
   ]
  },
  {
   "cell_type": "code",
   "execution_count": 25,
   "id": "2d909e9c-2c5c-4c33-8540-819c73b602fc",
   "metadata": {},
   "outputs": [
    {
     "name": "stdout",
     "output_type": "stream",
     "text": [
      "(<Cell 'Watches'.A1>, <Cell 'Watches'.B1>, <Cell 'Watches'.C1>)\n",
      "(<Cell 'Watches'.A2>, <Cell 'Watches'.B2>, <Cell 'Watches'.C2>)\n"
     ]
    }
   ],
   "source": [
    "#Iterating through the data\n",
    "\n",
    "for row in sheet.iter_rows(min_row=1, max_row=2, min_col=1, max_col=3):\n",
    "    print(row)"
   ]
  },
  {
   "cell_type": "code",
   "execution_count": 26,
   "id": "f4ab83d2-8302-451d-a91a-6d100a9c07cb",
   "metadata": {},
   "outputs": [
    {
     "name": "stdout",
     "output_type": "stream",
     "text": [
      "(<Cell 'Watches'.A1>, <Cell 'Watches'.A2>)\n",
      "(<Cell 'Watches'.B1>, <Cell 'Watches'.B2>)\n",
      "(<Cell 'Watches'.C1>, <Cell 'Watches'.C2>)\n"
     ]
    }
   ],
   "source": [
    "for column in sheet.iter_cols(min_row=1, max_row=2, min_col=1, max_col=3):\n",
    "    print(column)"
   ]
  },
  {
   "cell_type": "code",
   "execution_count": 27,
   "id": "d7fc8967-420c-4445-9db4-ed84a65337cb",
   "metadata": {},
   "outputs": [
    {
     "name": "stdout",
     "output_type": "stream",
     "text": [
      "('marketplace', 'customer_id', 'review_id')\n",
      "('US', 3653882, 'R3O9SGZBVQBV76')\n"
     ]
    }
   ],
   "source": [
    "for value in sheet.iter_rows(min_row=1, max_row=2, min_col=1, max_col=3, values_only =True):\n",
    "    print(value)"
   ]
  },
  {
   "cell_type": "code",
   "execution_count": null,
   "id": "135c6e47-9a4c-47cf-b4e2-7fea7e7af9aa",
   "metadata": {},
   "outputs": [],
   "source": [
    "\"\"\"\n",
    "If you want to iterate through the whole dataset, then you can also use the attributes\n",
    ".rows or .columns directly, which are shortcuts to using .iter_rows() and .iter_cols()\n",
    "without any arguments:\n",
    "\"\"\""
   ]
  },
  {
   "cell_type": "code",
   "execution_count": null,
   "id": "5df843d3-7d74-40bb-8f08-56c96a226ba5",
   "metadata": {},
   "outputs": [],
   "source": []
  },
  {
   "cell_type": "code",
   "execution_count": 29,
   "id": "407fbe26-f3cd-4f24-9d1d-fdd6afea5175",
   "metadata": {},
   "outputs": [
    {
     "name": "stdout",
     "output_type": "stream",
     "text": [
      "{\"B00FALQ1ZC\": {\"parent\": 937001370, \"title\": \"Invicta Women's 15150 \\\"Angel\\\" 18k Yellow Gold Ion-Plated Stainless Steel and Brown Leather Watch\", \"category\": \"Watches\"}, \"B00D3RGO20\": {\"parent\": 484010722, \"title\": \"Kenneth Cole New York Women's KC4944 Automatic Silver Automatic Mesh Bracelet Analog Watch\", \"category\": \"Watches\"}, \"B00DKYC7TK\": {\"parent\": 361166390, \"title\": \"Ritche 22mm Black Stainless Steel Bracelet Watch Band Strap Pebble Time/Pebble Classic\", \"category\": \"Watches\"}}\n"
     ]
    }
   ],
   "source": [
    "# DATA into a DICTIONARY\n",
    "\n",
    "import json\n",
    "from openpyxl import load_workbook\n",
    "\n",
    "workbook = load_workbook(\"files/sample.xlsx\")\n",
    "sheet = workbook.active\n",
    "\n",
    "products= {}\n",
    "\n",
    "for row in sheet.iter_rows(min_row=2, max_row=4, min_col=4, max_col=7, values_only=True):\n",
    "    product_id= row[0]\n",
    "    product = {\n",
    "        \"parent\" :row[1],\n",
    "        \"title\" : row[2],\n",
    "        \"category\" : row[3]\n",
    "    }\n",
    "    products[product_id] = product\n",
    "\n",
    "print(json.dumps(products))\n",
    "    "
   ]
  },
  {
   "cell_type": "code",
   "execution_count": null,
   "id": "15791520-c1ad-45f7-9685-9595d5bda0f4",
   "metadata": {},
   "outputs": [],
   "source": []
  },
  {
   "cell_type": "code",
   "execution_count": null,
   "id": "dcf0cb6f-c06b-42fe-ab30-24c4d8769efa",
   "metadata": {},
   "outputs": [],
   "source": []
  },
  {
   "cell_type": "code",
   "execution_count": null,
   "id": "5ddfd12c-55f8-4129-8015-1378e0ad06ff",
   "metadata": {},
   "outputs": [],
   "source": []
  },
  {
   "cell_type": "code",
   "execution_count": null,
   "id": "ac0f64f1-1bce-4504-adcb-55d0f2e6a5b6",
   "metadata": {},
   "outputs": [],
   "source": []
  },
  {
   "cell_type": "code",
   "execution_count": null,
   "id": "1c5daeee-ca44-4be2-8efe-3876cea452df",
   "metadata": {},
   "outputs": [],
   "source": []
  }
 ],
 "metadata": {
  "kernelspec": {
   "display_name": "Python 3 (ipykernel)",
   "language": "python",
   "name": "python3"
  },
  "language_info": {
   "codemirror_mode": {
    "name": "ipython",
    "version": 3
   },
   "file_extension": ".py",
   "mimetype": "text/x-python",
   "name": "python",
   "nbconvert_exporter": "python",
   "pygments_lexer": "ipython3",
   "version": "3.12.3"
  }
 },
 "nbformat": 4,
 "nbformat_minor": 5
}
