{
 "cells": [
  {
   "cell_type": "code",
   "execution_count": 4,
   "id": "d8f57fcb-08b1-4900-9144-7c0d14899423",
   "metadata": {},
   "outputs": [
    {
     "name": "stdout",
     "output_type": "stream",
     "text": [
      "['Name', 'Age', 'Profession']\n",
      "['Tom', '25', 'Engineer']\n",
      "['Bob', '30', 'Doctor']\n"
     ]
    }
   ],
   "source": [
    "#Read CSV Files\n",
    "\n",
    "import csv\n",
    "\n",
    "with open(\"C:/Users/sahu7/Documents/Python_DSA/WEEK6/files/people.csv\", \"r\") as file:\n",
    "    reader = csv.reader(file)\n",
    "\n",
    "    for row in reader:\n",
    "        print(row)"
   ]
  },
  {
   "cell_type": "code",
   "execution_count": null,
   "id": "b1ea7b48-9c4d-487f-a8af-39361d294442",
   "metadata": {},
   "outputs": [],
   "source": []
  },
  {
   "cell_type": "code",
   "execution_count": 7,
   "id": "972934bd-e7c2-4246-a8fa-75b32fed4047",
   "metadata": {},
   "outputs": [],
   "source": [
    "#Write to CSV Files\n",
    "\n",
    "import csv\n",
    "\n",
    "with open(\"C:/Users/sahu7/Documents/Python_DSA/WEEK6/files/Movie.csv\", \"w\", newline=\"\") as file:\n",
    "    writer = csv.writer(file)\n",
    "    writer.writerow([\"SN\", \"Movie\"])\n",
    "    writer.writerow([1, \"Harry Potter\"])\n",
    "    writer.writerow([2, \"The Boys\"])"
   ]
  },
  {
   "cell_type": "code",
   "execution_count": null,
   "id": "d726290b-a141-42f9-8dc8-ce5fc5a2f82e",
   "metadata": {},
   "outputs": [],
   "source": []
  }
 ],
 "metadata": {
  "kernelspec": {
   "display_name": "Python 3 (ipykernel)",
   "language": "python",
   "name": "python3"
  },
  "language_info": {
   "codemirror_mode": {
    "name": "ipython",
    "version": 3
   },
   "file_extension": ".py",
   "mimetype": "text/x-python",
   "name": "python",
   "nbconvert_exporter": "python",
   "pygments_lexer": "ipython3",
   "version": "3.12.3"
  }
 },
 "nbformat": 4,
 "nbformat_minor": 5
}
