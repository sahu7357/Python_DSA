{
 "cells": [
  {
   "cell_type": "code",
   "execution_count": 1,
   "id": "5033ca58-a351-45a5-aa75-19cc3d6f0ecd",
   "metadata": {},
   "outputs": [
    {
     "data": {
      "text/plain": [
       "'\\n\"r\" - Read - Default value. Opens a file for reading, error if the file does not exist\\n\"a\" - Append - Opens a file for appending, creates the file if it does not exist\\n\"w\" - Write - Opens a file for writing, creates the file if it does not exist\\n\"x\" - Create - Creates the specified file, returns an error if the file exists\\n'"
      ]
     },
     "execution_count": 1,
     "metadata": {},
     "output_type": "execute_result"
    }
   ],
   "source": [
    "#Open function takes two parameter filename and mode\n",
    "\"\"\"\n",
    "\"r\" - Read - Default value. Opens a file for reading, error if the file does not exist\n",
    "\"a\" - Append - Opens a file for appending, creates the file if it does not exist\n",
    "\"w\" - Write - Opens a file for writing, creates the file if it does not exist\n",
    "\"x\" - Create - Creates the specified file, returns an error if the file exists\n",
    "\"\"\""
   ]
  },
  {
   "cell_type": "code",
   "execution_count": 3,
   "id": "036c4a45-fc97-4c43-b5d6-2f7197475966",
   "metadata": {},
   "outputs": [
    {
     "ename": "FileNotFoundError",
     "evalue": "[Errno 2] No such file or directory: 'demo.txt'",
     "output_type": "error",
     "traceback": [
      "\u001b[1;31m---------------------------------------------------------------------------\u001b[0m",
      "\u001b[1;31mFileNotFoundError\u001b[0m                         Traceback (most recent call last)",
      "Cell \u001b[1;32mIn[3], line 1\u001b[0m\n\u001b[1;32m----> 1\u001b[0m f \u001b[38;5;241m=\u001b[39m \u001b[38;5;28;43mopen\u001b[39;49m\u001b[43m(\u001b[49m\u001b[38;5;124;43m\"\u001b[39;49m\u001b[38;5;124;43mdemo.txt\u001b[39;49m\u001b[38;5;124;43m\"\u001b[39;49m\u001b[43m)\u001b[49m\n",
      "File \u001b[1;32m~\\AppData\\Local\\Programs\\Python\\Python312\\Lib\\site-packages\\IPython\\core\\interactiveshell.py:324\u001b[0m, in \u001b[0;36m_modified_open\u001b[1;34m(file, *args, **kwargs)\u001b[0m\n\u001b[0;32m    317\u001b[0m \u001b[38;5;28;01mif\u001b[39;00m file \u001b[38;5;129;01min\u001b[39;00m {\u001b[38;5;241m0\u001b[39m, \u001b[38;5;241m1\u001b[39m, \u001b[38;5;241m2\u001b[39m}:\n\u001b[0;32m    318\u001b[0m     \u001b[38;5;28;01mraise\u001b[39;00m \u001b[38;5;167;01mValueError\u001b[39;00m(\n\u001b[0;32m    319\u001b[0m         \u001b[38;5;124mf\u001b[39m\u001b[38;5;124m\"\u001b[39m\u001b[38;5;124mIPython won\u001b[39m\u001b[38;5;124m'\u001b[39m\u001b[38;5;124mt let you open fd=\u001b[39m\u001b[38;5;132;01m{\u001b[39;00mfile\u001b[38;5;132;01m}\u001b[39;00m\u001b[38;5;124m by default \u001b[39m\u001b[38;5;124m\"\u001b[39m\n\u001b[0;32m    320\u001b[0m         \u001b[38;5;124m\"\u001b[39m\u001b[38;5;124mas it is likely to crash IPython. If you know what you are doing, \u001b[39m\u001b[38;5;124m\"\u001b[39m\n\u001b[0;32m    321\u001b[0m         \u001b[38;5;124m\"\u001b[39m\u001b[38;5;124myou can use builtins\u001b[39m\u001b[38;5;124m'\u001b[39m\u001b[38;5;124m open.\u001b[39m\u001b[38;5;124m\"\u001b[39m\n\u001b[0;32m    322\u001b[0m     )\n\u001b[1;32m--> 324\u001b[0m \u001b[38;5;28;01mreturn\u001b[39;00m \u001b[43mio_open\u001b[49m\u001b[43m(\u001b[49m\u001b[43mfile\u001b[49m\u001b[43m,\u001b[49m\u001b[43m \u001b[49m\u001b[38;5;241;43m*\u001b[39;49m\u001b[43margs\u001b[49m\u001b[43m,\u001b[49m\u001b[43m \u001b[49m\u001b[38;5;241;43m*\u001b[39;49m\u001b[38;5;241;43m*\u001b[39;49m\u001b[43mkwargs\u001b[49m\u001b[43m)\u001b[49m\n",
      "\u001b[1;31mFileNotFoundError\u001b[0m: [Errno 2] No such file or directory: 'demo.txt'"
     ]
    }
   ],
   "source": [
    "f = open(\"demo.txt\")"
   ]
  },
  {
   "cell_type": "code",
   "execution_count": 8,
   "id": "e35c1da1-fe6f-41dd-8933-1d33c3408c79",
   "metadata": {},
   "outputs": [
    {
     "name": "stdout",
     "output_type": "stream",
     "text": [
      "Hi welcome to demo file\n"
     ]
    }
   ],
   "source": [
    "f = open(\"C:/Users/sahu7/Documents/Python_DSA/WEEK2/files/demo.txt\")\n",
    "print(f.read())"
   ]
  },
  {
   "cell_type": "code",
   "execution_count": 9,
   "id": "c598d610-4da6-4ddc-8166-495ba39b5a06",
   "metadata": {},
   "outputs": [
    {
     "name": "stdout",
     "output_type": "stream",
     "text": [
      "Hi welcome to demo file\n"
     ]
    }
   ],
   "source": [
    "f = open(\"C:/Users/sahu7/Documents/Python_DSA/WEEK2/files/demo.txt\", \"r\")\n",
    "print(f.read())"
   ]
  },
  {
   "cell_type": "code",
   "execution_count": 10,
   "id": "6f8a829a-420d-4e35-86bd-8d4038c04749",
   "metadata": {},
   "outputs": [
    {
     "name": "stdout",
     "output_type": "stream",
     "text": [
      "Hi wel\n"
     ]
    }
   ],
   "source": [
    "f = open(\"C:/Users/sahu7/Documents/Python_DSA/WEEK2/files/demo.txt\", \"r\")\n",
    "print(f.read(6))"
   ]
  },
  {
   "cell_type": "code",
   "execution_count": 12,
   "id": "5a148b3f-286d-4e78-b8ce-897d91d518b2",
   "metadata": {},
   "outputs": [
    {
     "name": "stdout",
     "output_type": "stream",
     "text": [
      "Hi welcome to demo file\n"
     ]
    }
   ],
   "source": [
    "f = open(\"C:/Users/sahu7/Documents/Python_DSA/WEEK2/files/demo.txt\", \"r\")\n",
    "print(f.readline())"
   ]
  },
  {
   "cell_type": "code",
   "execution_count": 13,
   "id": "26a73526-ccec-4a68-98c6-8df275412ae7",
   "metadata": {},
   "outputs": [
    {
     "name": "stdout",
     "output_type": "stream",
     "text": [
      "Hi welcome to demo file\n",
      "\n",
      "file handling\n"
     ]
    }
   ],
   "source": [
    "f = open(\"C:/Users/sahu7/Documents/Python_DSA/WEEK2/files/demo.txt\", \"r\")\n",
    "print(f.readline())\n",
    "print(f.readline())"
   ]
  },
  {
   "cell_type": "code",
   "execution_count": 14,
   "id": "5f4f8cec-24b8-49ed-b974-d27fb37bdec1",
   "metadata": {},
   "outputs": [
    {
     "name": "stdout",
     "output_type": "stream",
     "text": [
      "Hi welcome to demo file\n",
      "\n",
      "file handling\n"
     ]
    }
   ],
   "source": [
    "f = open(\"C:/Users/sahu7/Documents/Python_DSA/WEEK2/files/demo.txt\")\n",
    "for x in f:\n",
    "    print(x)"
   ]
  },
  {
   "cell_type": "code",
   "execution_count": 15,
   "id": "04a244e8-8610-4e12-bfe4-965e14be9b87",
   "metadata": {},
   "outputs": [
    {
     "name": "stdout",
     "output_type": "stream",
     "text": [
      "Hi welcome to demo file\n",
      "file handling\n"
     ]
    }
   ],
   "source": [
    "f = open(\"C:/Users/sahu7/Documents/Python_DSA/WEEK2/files/demo.txt\")\n",
    "print(f.read())\n",
    "f.close()"
   ]
  },
  {
   "cell_type": "code",
   "execution_count": 16,
   "id": "b7d8e4cc-c0ff-44e0-b1bf-98cb80164192",
   "metadata": {},
   "outputs": [
    {
     "name": "stdout",
     "output_type": "stream",
     "text": [
      "Hi welcome to demo file\n",
      "file handling\n"
     ]
    },
    {
     "ename": "ValueError",
     "evalue": "I/O operation on closed file.",
     "output_type": "error",
     "traceback": [
      "\u001b[1;31m---------------------------------------------------------------------------\u001b[0m",
      "\u001b[1;31mValueError\u001b[0m                                Traceback (most recent call last)",
      "Cell \u001b[1;32mIn[16], line 4\u001b[0m\n\u001b[0;32m      2\u001b[0m \u001b[38;5;28mprint\u001b[39m(f\u001b[38;5;241m.\u001b[39mread())\n\u001b[0;32m      3\u001b[0m f\u001b[38;5;241m.\u001b[39mclose()\n\u001b[1;32m----> 4\u001b[0m \u001b[38;5;28mprint\u001b[39m(\u001b[43mf\u001b[49m\u001b[38;5;241;43m.\u001b[39;49m\u001b[43mread\u001b[49m\u001b[43m(\u001b[49m\u001b[43m)\u001b[49m)\n",
      "\u001b[1;31mValueError\u001b[0m: I/O operation on closed file."
     ]
    }
   ],
   "source": [
    "f = open(\"C:/Users/sahu7/Documents/Python_DSA/WEEK2/files/demo.txt\")\n",
    "print(f.read())\n",
    "f.close()\n",
    "print(f.read())"
   ]
  },
  {
   "cell_type": "code",
   "execution_count": 17,
   "id": "c29c34f1-99c9-460c-84db-fbd8e616133b",
   "metadata": {},
   "outputs": [],
   "source": [
    "f = open(\"C:/Users/sahu7/Documents/Python_DSA/WEEK2/files/demo2.txt\", \"a\")\n",
    "f.write(\"Adding content to demo2 file\")\n",
    "f.close()"
   ]
  },
  {
   "cell_type": "code",
   "execution_count": 18,
   "id": "2e580e7c-ffe7-4de0-8a8b-d2ee00864119",
   "metadata": {},
   "outputs": [
    {
     "name": "stdout",
     "output_type": "stream",
     "text": [
      "Adding content to demo2 file\n"
     ]
    }
   ],
   "source": [
    "f = open(\"C:/Users/sahu7/Documents/Python_DSA/WEEK2/files/demo2.txt\")\n",
    "print(f.read())\n",
    "f.close()"
   ]
  },
  {
   "cell_type": "code",
   "execution_count": 19,
   "id": "db79206a-8c43-4a94-be9f-8c1f5d7c2212",
   "metadata": {},
   "outputs": [],
   "source": [
    "f = open(\"C:/Users/sahu7/Documents/Python_DSA/WEEK2/files/demo2.txt\", \"w\")\n",
    "f.write(\"Content overwritten\")\n",
    "f.close()"
   ]
  },
  {
   "cell_type": "code",
   "execution_count": 20,
   "id": "3636a2d7-ce43-43d7-a9f9-3d312af87883",
   "metadata": {},
   "outputs": [
    {
     "name": "stdout",
     "output_type": "stream",
     "text": [
      "Content overwritten\n"
     ]
    }
   ],
   "source": [
    "f = open(\"C:/Users/sahu7/Documents/Python_DSA/WEEK2/files/demo2.txt\")\n",
    "print(f.read())\n",
    "f.close()"
   ]
  },
  {
   "cell_type": "code",
   "execution_count": 21,
   "id": "165b5a7e-6d04-47b5-85b1-addbe6b6e482",
   "metadata": {},
   "outputs": [
    {
     "ename": "FileNotFoundError",
     "evalue": "[WinError 2] The system cannot find the file specified: 'demo3.txt'",
     "output_type": "error",
     "traceback": [
      "\u001b[1;31m---------------------------------------------------------------------------\u001b[0m",
      "\u001b[1;31mFileNotFoundError\u001b[0m                         Traceback (most recent call last)",
      "Cell \u001b[1;32mIn[21], line 3\u001b[0m\n\u001b[0;32m      1\u001b[0m \u001b[38;5;28;01mimport\u001b[39;00m \u001b[38;5;21;01mos\u001b[39;00m \n\u001b[0;32m      2\u001b[0m \u001b[38;5;28;01mif\u001b[39;00m os\u001b[38;5;241m.\u001b[39mpath\u001b[38;5;241m.\u001b[39mexists(\u001b[38;5;124m\"\u001b[39m\u001b[38;5;124mC:/Users/sahu7/Documents/Python_DSA/WEEK2/files/demo3.txt\u001b[39m\u001b[38;5;124m\"\u001b[39m):\n\u001b[1;32m----> 3\u001b[0m     \u001b[43mos\u001b[49m\u001b[38;5;241;43m.\u001b[39;49m\u001b[43mremove\u001b[49m\u001b[43m(\u001b[49m\u001b[38;5;124;43m\"\u001b[39;49m\u001b[38;5;124;43mdemo3.txt\u001b[39;49m\u001b[38;5;124;43m\"\u001b[39;49m\u001b[43m)\u001b[49m\n\u001b[0;32m      4\u001b[0m \u001b[38;5;28;01melse\u001b[39;00m:\n\u001b[0;32m      5\u001b[0m     \u001b[38;5;28mprint\u001b[39m(\u001b[38;5;124m\"\u001b[39m\u001b[38;5;124mpath does not exist\u001b[39m\u001b[38;5;124m\"\u001b[39m)\n",
      "\u001b[1;31mFileNotFoundError\u001b[0m: [WinError 2] The system cannot find the file specified: 'demo3.txt'"
     ]
    }
   ],
   "source": [
    "import os \n",
    "if os.path.exists(\"C:/Users/sahu7/Documents/Python_DSA/WEEK2/files/demo3.txt\"):\n",
    "    os.remove(\"demo3.txt\")\n",
    "else:\n",
    "    print(\"path does not exist\")"
   ]
  },
  {
   "cell_type": "code",
   "execution_count": 22,
   "id": "ea9c43a5-05ed-4df6-b7aa-387df1262649",
   "metadata": {},
   "outputs": [],
   "source": [
    "import os \n",
    "if os.path.exists(\"C:/Users/sahu7/Documents/Python_DSA/WEEK2/files/demo3.txt\"):\n",
    "    os.remove(\"C:/Users/sahu7/Documents/Python_DSA/WEEK2/files/demo3.txt\")\n",
    "else:\n",
    "    print(\"path does not exist\")"
   ]
  },
  {
   "cell_type": "code",
   "execution_count": 23,
   "id": "95945997-6102-43dd-b87b-5e7c260d6eb3",
   "metadata": {},
   "outputs": [
    {
     "name": "stdout",
     "output_type": "stream",
     "text": [
      "path does not exist\n"
     ]
    }
   ],
   "source": [
    "import os \n",
    "if os.path.exists(\"C:/Users/sahu7/Documents/Python_DSA/WEEK2/files/demo3.txt\"):\n",
    "    os.remove(\"C:/Users/sahu7/Documents/Python_DSA/WEEK2/files/demo3.txt\")\n",
    "else:\n",
    "    print(\"path does not exist\")"
   ]
  },
  {
   "cell_type": "code",
   "execution_count": 24,
   "id": "4e68aaa6-07d9-4a7d-a2ea-91f1a1347d4f",
   "metadata": {},
   "outputs": [],
   "source": [
    "import os\n",
    "os.remove(\"C:/Users/sahu7/Documents/Python_DSA/WEEK2/files/demo4.txt\")"
   ]
  },
  {
   "cell_type": "code",
   "execution_count": 4,
   "id": "b81b3b1d-10f4-43d3-b2da-4c0cb4ceb57e",
   "metadata": {},
   "outputs": [
    {
     "name": "stdout",
     "output_type": "stream",
     "text": [
      "Hello world \n",
      "I hope you're doing well today \n",
      "This is a text file \n",
      "Have a nice time \n",
      "\n"
     ]
    }
   ],
   "source": [
    "with open(\"C:/Users/sahu7/Documents/Python_DSA/WEEK2/files/test.txt\", \"w\") as my_file:\n",
    "    my_file.write(\"Hello world \\n\")\n",
    "    my_file.write(\"I hope you're doing well today \\n\")\n",
    "    my_file.write(\"This is a text file \\n\")\n",
    "    my_file.write(\"Have a nice time \\n\")\n",
    "\n",
    "with open(\"C:/Users/sahu7/Documents/Python_DSA/WEEK2/files/test.txt\") as my_file:\n",
    "    print(my_file.read())"
   ]
  },
  {
   "cell_type": "code",
   "execution_count": null,
   "id": "db38a8aa-fec5-43e6-a4f7-8bc0b5344263",
   "metadata": {},
   "outputs": [],
   "source": []
  }
 ],
 "metadata": {
  "kernelspec": {
   "display_name": "Python 3 (ipykernel)",
   "language": "python",
   "name": "python3"
  },
  "language_info": {
   "codemirror_mode": {
    "name": "ipython",
    "version": 3
   },
   "file_extension": ".py",
   "mimetype": "text/x-python",
   "name": "python",
   "nbconvert_exporter": "python",
   "pygments_lexer": "ipython3",
   "version": "3.12.3"
  }
 },
 "nbformat": 4,
 "nbformat_minor": 5
}
