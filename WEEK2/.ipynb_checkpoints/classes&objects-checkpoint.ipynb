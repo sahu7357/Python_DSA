{
 "cells": [
  {
   "cell_type": "code",
   "execution_count": 2,
   "id": "4e094243-a685-4220-90b7-d9cd931c0df4",
   "metadata": {},
   "outputs": [
    {
     "name": "stdout",
     "output_type": "stream",
     "text": [
      "John\n",
      "25\n"
     ]
    }
   ],
   "source": [
    "class Person:\n",
    "    def __init__(self, name, age):\n",
    "        self.name = name\n",
    "        self.age = age\n",
    "\n",
    "p1 = Person(\"John\", 25)\n",
    "print(p1.name)\n",
    "print(p1.age)"
   ]
  },
  {
   "cell_type": "code",
   "execution_count": 3,
   "id": "ea070554-9690-4f19-949a-ac1feadeb3ab",
   "metadata": {},
   "outputs": [
    {
     "name": "stdout",
     "output_type": "stream",
     "text": [
      "<__main__.Person object at 0x0000027D25B92960>\n"
     ]
    }
   ],
   "source": [
    "class Person:\n",
    "    def __init__(self, name, age):\n",
    "        self.name = name\n",
    "        self.age = age\n",
    "\n",
    "p1 = Person(\"Abhay\", 20)\n",
    "print(p1)"
   ]
  },
  {
   "cell_type": "code",
   "execution_count": 4,
   "id": "2f1300d5-ed55-4f22-a5e7-17d09d785b0c",
   "metadata": {},
   "outputs": [
    {
     "name": "stdout",
     "output_type": "stream",
     "text": [
      "JodhiRam, 70\n"
     ]
    }
   ],
   "source": [
    "class Person:\n",
    "    def __init__(self, name, age):\n",
    "        self.name = name\n",
    "        self.age= age\n",
    "\n",
    "    def __str__(self):\n",
    "        return f\"{self.name}, {self.age}\"\n",
    "\n",
    "p1 = Person(\"JodhiRam\", 70)\n",
    "print(p1)"
   ]
  },
  {
   "cell_type": "code",
   "execution_count": 9,
   "id": "9a25bead-c28b-4b16-9fc3-2e2b234797b0",
   "metadata": {},
   "outputs": [
    {
     "name": "stdout",
     "output_type": "stream",
     "text": [
      "My name is : Abhay\n"
     ]
    }
   ],
   "source": [
    "class Person:\n",
    "    def __init__(self, name, age):\n",
    "        self.name = name\n",
    "        self.age = age\n",
    "\n",
    "    def myfunc(self):\n",
    "        print(\"My name is : \" + self.name)\n",
    "\n",
    "p1 = Person(\"Abhay\", 20)\n",
    "p1.myfunc()"
   ]
  },
  {
   "cell_type": "code",
   "execution_count": 15,
   "id": "e500f2a7-ffef-4f72-83e6-22bcbaa6366e",
   "metadata": {},
   "outputs": [
    {
     "name": "stdout",
     "output_type": "stream",
     "text": [
      "Tommy is a  mammal\n",
      "Mac is a  mammal\n"
     ]
    }
   ],
   "source": [
    "class Dog:\n",
    "    attr1= \"mammal\"\n",
    "\n",
    "    def __init__(self, name):\n",
    "        self.name = name\n",
    "\n",
    "Tommy = Dog(\"Tommy\")\n",
    "Mac = Dog(\"Mac\")\n",
    "\n",
    "print(\"Tommy is a \" , Tommy.attr1)\n",
    "print(\"Mac is a \" , Mac.attr1)"
   ]
  },
  {
   "cell_type": "code",
   "execution_count": 17,
   "id": "5b707792-2975-44be-9aa5-af91ee192935",
   "metadata": {},
   "outputs": [
    {
     "name": "stdout",
     "output_type": "stream",
     "text": [
      "My name is :  Tommy\n",
      "My name is :  Mac\n"
     ]
    }
   ],
   "source": [
    "class Dog:\n",
    "    attr1 = \"mammal\"\n",
    "\n",
    "    def __init__(self, name):\n",
    "        self.name = name\n",
    "\n",
    "    def speak(self):\n",
    "        print(f\"My name is : \", self.name)\n",
    "\n",
    "Tommy = Dog(\"Tommy\")\n",
    "Mac = Dog(\"Mac\")\n",
    "\n",
    "Tommy.speak()\n",
    "Mac.speak()"
   ]
  },
  {
   "cell_type": "code",
   "execution_count": null,
   "id": "401b3fa1-0777-4a66-a617-4d1511d99544",
   "metadata": {},
   "outputs": [],
   "source": []
  }
 ],
 "metadata": {
  "kernelspec": {
   "display_name": "Python 3 (ipykernel)",
   "language": "python",
   "name": "python3"
  },
  "language_info": {
   "codemirror_mode": {
    "name": "ipython",
    "version": 3
   },
   "file_extension": ".py",
   "mimetype": "text/x-python",
   "name": "python",
   "nbconvert_exporter": "python",
   "pygments_lexer": "ipython3",
   "version": "3.12.3"
  }
 },
 "nbformat": 4,
 "nbformat_minor": 5
}
