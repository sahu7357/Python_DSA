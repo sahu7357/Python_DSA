{
 "cells": [
  {
   "cell_type": "code",
   "execution_count": 1,
   "id": "455f802a-1f1c-479d-968d-4f64f60e9920",
   "metadata": {},
   "outputs": [
    {
     "name": "stdout",
     "output_type": "stream",
     "text": [
      "Yash Kumar\n"
     ]
    }
   ],
   "source": [
    "class Person:\n",
    "    def __init__(self, fname, lname):\n",
    "        self.fname = fname\n",
    "        self.lname = lname\n",
    "\n",
    "    def printName(self):\n",
    "        print(self.fname, self.lname)\n",
    "\n",
    "p1= Person(\"Yash\", \"Kumar\")\n",
    "p1.printName()\n"
   ]
  },
  {
   "cell_type": "code",
   "execution_count": 3,
   "id": "9289c98b-281f-467d-a101-2550f60a9b2b",
   "metadata": {},
   "outputs": [
    {
     "name": "stdout",
     "output_type": "stream",
     "text": [
      "Yash kumar\n"
     ]
    }
   ],
   "source": [
    "class Person:\n",
    "    def __init__(self, fname, lname):\n",
    "        self.fname = fname\n",
    "        self.lname = lname\n",
    "\n",
    "    def printName(self):\n",
    "        print(self.fname, self.lname)\n",
    "\n",
    "\n",
    "class Student(Person):\n",
    "    def __init__(self, fname, lname, year):\n",
    "        super().__init__(fname, lname)\n",
    "        self.graduationYear = year\n",
    "\n",
    "s1 = Student(\"Yash\", \"kumar\", 2020)\n",
    "s1.printName()\n",
    "        "
   ]
  },
  {
   "cell_type": "code",
   "execution_count": 5,
   "id": "e6adbf48-1a30-4817-94e3-d75b2cfd63a2",
   "metadata": {},
   "outputs": [
    {
     "name": "stdout",
     "output_type": "stream",
     "text": [
      "Yash kumar\n",
      "Welcome Yash kumar to the class of 2020\n"
     ]
    }
   ],
   "source": [
    "class Person:\n",
    "    def __init__(self, fname, lname):\n",
    "        self.fname = fname\n",
    "        self.lname = lname\n",
    "\n",
    "    def printName(self):\n",
    "        print(self.fname, self.lname)\n",
    "\n",
    "\n",
    "class Student(Person):\n",
    "    def __init__(self, fname, lname, year):\n",
    "        super().__init__(fname, lname)\n",
    "        self.graduationYear = year\n",
    "\n",
    "    def welcome(self):\n",
    "        print(\"Welcome\", self.fname, self.lname, \"to the class of\", self.graduationYear)\n",
    "\n",
    "s1 = Student(\"Yash\", \"kumar\", 2020)\n",
    "s1.printName()\n",
    "s1.welcome()"
   ]
  },
  {
   "cell_type": "code",
   "execution_count": 9,
   "id": "07e3fb10-5d35-449d-89d7-7e5ed0d20ca3",
   "metadata": {},
   "outputs": [
    {
     "name": "stdout",
     "output_type": "stream",
     "text": [
      "Aman\n",
      "101\n",
      "My name is : Aman\n",
      "My id no is : 101\n",
      "My post is : stennographer\n"
     ]
    }
   ],
   "source": [
    "#Parent class\n",
    "class Person:\n",
    "    def __init__(self, name, idNumber):\n",
    "        self.name = name\n",
    "        self.idNumber = idNumber\n",
    "\n",
    "    def display(self):\n",
    "        print(self.name)\n",
    "        print(self.idNumber)\n",
    "\n",
    "    def details(self):\n",
    "        print(\"My name is : \", self.name)\n",
    "        print(\"My id no. is : \", self.idNumber)\n",
    "\n",
    "#Child class\n",
    "class Employee(Person):\n",
    "    def __init__(self, name, idNumber, salary, post):\n",
    "        super().__init__(name, idNumber)\n",
    "        self.salary = salary\n",
    "        self.post = post\n",
    "\n",
    "    def details(self):\n",
    "        print(\"My name is :\", self.name)\n",
    "        print(\"My id no is :\", self.idNumber)\n",
    "        print(\"My post is :\", self.post)\n",
    "\n",
    "e1 = Employee(\"Aman\", 101, 60000, \"stennographer\")\n",
    "e1.display()\n",
    "e1.details()"
   ]
  },
  {
   "cell_type": "code",
   "execution_count": null,
   "id": "133fb23f-5e76-4c0d-8c26-2200caaf10ba",
   "metadata": {},
   "outputs": [],
   "source": []
  }
 ],
 "metadata": {
  "kernelspec": {
   "display_name": "Python 3 (ipykernel)",
   "language": "python",
   "name": "python3"
  },
  "language_info": {
   "codemirror_mode": {
    "name": "ipython",
    "version": 3
   },
   "file_extension": ".py",
   "mimetype": "text/x-python",
   "name": "python",
   "nbconvert_exporter": "python",
   "pygments_lexer": "ipython3",
   "version": "3.12.3"
  }
 },
 "nbformat": 4,
 "nbformat_minor": 5
}
