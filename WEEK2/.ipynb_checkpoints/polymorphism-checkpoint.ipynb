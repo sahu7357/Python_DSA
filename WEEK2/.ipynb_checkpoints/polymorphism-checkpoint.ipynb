{
 "cells": [
  {
   "cell_type": "code",
   "execution_count": null,
   "id": "3799adef-82cf-4db3-b7d5-583a286890d4",
   "metadata": {},
   "outputs": [],
   "source": [
    "\"\"\"\n",
    "The word \"polymorphism\" means \"many forms\",\n",
    "and in programming it refers to methods/functions/operators with the same name that can be executed on many objects or classes.\n",
    "\"\"\""
   ]
  },
  {
   "cell_type": "code",
   "execution_count": 3,
   "id": "987f57e1-90b0-4e63-af40-6f7ea5d68e74",
   "metadata": {},
   "outputs": [
    {
     "name": "stdout",
     "output_type": "stream",
     "text": [
      "Drive\n",
      "Sail\n",
      "Fly\n"
     ]
    }
   ],
   "source": [
    "#Class Polymorphism\n",
    "class Car:\n",
    "    def __init__(self, brand, model):\n",
    "        self.brand = brand\n",
    "        self.model = model\n",
    "\n",
    "    def move(self):\n",
    "        print(\"Drive\")\n",
    "\n",
    "class Boat:\n",
    "    def __init__(self, brand, model):\n",
    "        self.brand = brand\n",
    "        self.model = model\n",
    "\n",
    "    def move(self):\n",
    "        print(\"Sail\")\n",
    "\n",
    "class Plane:\n",
    "    def __init__(self, brand, model):\n",
    "        self.brand = brand\n",
    "        self.model = model\n",
    "\n",
    "    def move(self):\n",
    "        print(\"Fly\")\n",
    "\n",
    "car1 = Car(\"Ford\", \"Mustang\")\n",
    "boat1 = Boat(\"Ibiza\", \"mx2\")\n",
    "plane1 = Plane(\"Boeing\", \"700\")\n",
    "\n",
    "for x in (car1, boat1, plane1):\n",
    "    x.move()"
   ]
  },
  {
   "cell_type": "code",
   "execution_count": 4,
   "id": "504504cd-ddc7-457a-8c9e-998ec10a4ffb",
   "metadata": {},
   "outputs": [
    {
     "name": "stdout",
     "output_type": "stream",
     "text": [
      "Move\n",
      "Sail\n",
      "Fly\n"
     ]
    }
   ],
   "source": [
    "#Inheritence class polymorphism\n",
    "class Vehicle:\n",
    "    def __init__(self, brand, model):\n",
    "        self.brand = brand\n",
    "        self.model = model\n",
    "\n",
    "    def move(self):\n",
    "        print(\"Move\")\n",
    "\n",
    "class Car(Vehicle):\n",
    "    pass\n",
    "\n",
    "class Boat(Vehicle):\n",
    "    def move(self):\n",
    "        print(\"Sail\")\n",
    "\n",
    "class Plane(Vehicle):\n",
    "    def move(self):\n",
    "        print(\"Fly\")\n",
    "\n",
    "car1 = Car(\"Ford\", \"Mustang\")\n",
    "boat1 = Boat(\"Ibiza\", \"mx2\")\n",
    "plane1 = Plane(\"Airbus\", \"700\")\n",
    "\n",
    "for x in (car1, boat1, plane1):\n",
    "    x.move()"
   ]
  },
  {
   "cell_type": "code",
   "execution_count": null,
   "id": "8b7dac72-2846-4ed3-a11a-88e5b1a78b88",
   "metadata": {},
   "outputs": [],
   "source": []
  },
  {
   "cell_type": "code",
   "execution_count": null,
   "id": "d4cd4600-e37d-4984-a499-d002905be7ab",
   "metadata": {},
   "outputs": [],
   "source": []
  },
  {
   "cell_type": "code",
   "execution_count": null,
   "id": "c7455d70-b605-4933-8523-ee2a498cf44a",
   "metadata": {},
   "outputs": [],
   "source": []
  },
  {
   "cell_type": "code",
   "execution_count": null,
   "id": "e9f703b5-ab74-431a-86f1-c49ffc858b5f",
   "metadata": {},
   "outputs": [],
   "source": []
  },
  {
   "cell_type": "code",
   "execution_count": null,
   "id": "ae2f7ecb-00b1-4293-b2a6-e0712e2c043f",
   "metadata": {},
   "outputs": [],
   "source": []
  },
  {
   "cell_type": "code",
   "execution_count": null,
   "id": "98336518-c509-47e8-a162-2fdbb64c25af",
   "metadata": {},
   "outputs": [],
   "source": []
  }
 ],
 "metadata": {
  "kernelspec": {
   "display_name": "Python 3 (ipykernel)",
   "language": "python",
   "name": "python3"
  },
  "language_info": {
   "codemirror_mode": {
    "name": "ipython",
    "version": 3
   },
   "file_extension": ".py",
   "mimetype": "text/x-python",
   "name": "python",
   "nbconvert_exporter": "python",
   "pygments_lexer": "ipython3",
   "version": "3.12.3"
  }
 },
 "nbformat": 4,
 "nbformat_minor": 5
}
