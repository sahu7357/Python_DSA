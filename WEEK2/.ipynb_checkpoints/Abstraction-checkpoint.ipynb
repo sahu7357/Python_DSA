{
 "cells": [
  {
   "cell_type": "code",
   "execution_count": 5,
   "id": "495700d7-61af-4850-aeca-f779e6daeba4",
   "metadata": {},
   "outputs": [
    {
     "name": "stdout",
     "output_type": "stream",
     "text": [
      "Brand : Maruti\n",
      "Model : Alto\n",
      "Year : 1999\n",
      "Speed up\n",
      "Does not have this feature\n",
      "Brand : Mahindra\n",
      "Model : xuv700\n",
      "Year : 2020\n",
      "Speed up\n",
      "Available\n"
     ]
    }
   ],
   "source": [
    "from abc import ABC, abstractmethod\n",
    "\n",
    "class Car(ABC):\n",
    "    def __init__(self, brand, model, year):\n",
    "        self.brand = brand\n",
    "        self.year = year\n",
    "        self.model = model\n",
    "\n",
    "    @abstractmethod\n",
    "    def printDetails(self):\n",
    "        pass\n",
    "\n",
    "    def accelerate(self):\n",
    "        print(\"Speed up\")\n",
    "\n",
    "    def break_applied(self):\n",
    "        print(\"STOP\")\n",
    "\n",
    "\n",
    "class Hatchback(Car):\n",
    "    def printDetails(self):\n",
    "        print(\"Brand :\", self.brand)\n",
    "        print(\"Model :\", self.model)\n",
    "        print(\"Year :\", self.year)\n",
    "\n",
    "    def sunroof(self):\n",
    "        print(\"Does not have this feature\")\n",
    "\n",
    "\n",
    "class Suv(Car):\n",
    "    def printDetails(self):\n",
    "        print(\"Brand :\", self.brand)\n",
    "        print(\"Model :\", self.model)\n",
    "        print(\"Year :\", self.year)\n",
    "\n",
    "    def sunroof(self):\n",
    "        print(\"Available\")\n",
    "\n",
    "\n",
    "c1 = Hatchback(\"Maruti\", \"Alto\", 1999)\n",
    "c1.printDetails()\n",
    "c1.accelerate()\n",
    "c1.sunroof()\n",
    "\n",
    "c2 = Suv(\"Mahindra\", \"xuv700\", 2020)\n",
    "c2.printDetails()\n",
    "c2.accelerate()\n",
    "c2.sunroof()\n",
    "\n",
    "\n",
    "        "
   ]
  },
  {
   "cell_type": "code",
   "execution_count": null,
   "id": "364753e7-6d75-4f14-9268-522ef1e3ca63",
   "metadata": {},
   "outputs": [],
   "source": []
  }
 ],
 "metadata": {
  "kernelspec": {
   "display_name": "Python 3 (ipykernel)",
   "language": "python",
   "name": "python3"
  },
  "language_info": {
   "codemirror_mode": {
    "name": "ipython",
    "version": 3
   },
   "file_extension": ".py",
   "mimetype": "text/x-python",
   "name": "python",
   "nbconvert_exporter": "python",
   "pygments_lexer": "ipython3",
   "version": "3.12.3"
  }
 },
 "nbformat": 4,
 "nbformat_minor": 5
}
